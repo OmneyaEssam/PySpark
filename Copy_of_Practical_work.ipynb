{
  "nbformat": 4,
  "nbformat_minor": 0,
  "metadata": {
    "colab": {
      "name": "Copy of Practical_work.ipynb",
      "provenance": [],
      "collapsed_sections": []
    },
    "kernelspec": {
      "name": "python3",
      "display_name": "Python 3"
    },
    "language_info": {
      "name": "python"
    }
  },
  "cells": [
    {
      "cell_type": "markdown",
      "metadata": {
        "id": "5MrBC530gmg5"
      },
      "source": [
        "Let's start with your project: \n",
        "\n",
        "Are you a data scientist? \n",
        "\n",
        "I think you are an awesome a data scientist.\n",
        "\n",
        "### **Problem** \n",
        "**Our goal is to create a predictive model that can answer the following question:**\n",
        "\n",
        "**What kind of people had a better chance of surviving?**"
      ]
    },
    {
      "cell_type": "markdown",
      "metadata": {
        "id": "qhBfwzBgioTD"
      },
      "source": [
        "**Data about passengers:**\n",
        "*   Name\n",
        "*   Age\n",
        "*   Gender.\n"
      ]
    },
    {
      "cell_type": "markdown",
      "metadata": {
        "id": "DIEH8iZqi-sk"
      },
      "source": [
        "## Install and Import Libraries\n",
        "Let's install PySpark:"
      ]
    },
    {
      "cell_type": "code",
      "metadata": {
        "id": "oj1HhvIOY5Yz",
        "colab": {
          "base_uri": "https://localhost:8080/"
        },
        "outputId": "1e35d974-9897-42d6-ac1d-d69b35e3b26f"
      },
      "source": [
        "!pip install pyspark"
      ],
      "execution_count": 1,
      "outputs": [
        {
          "output_type": "stream",
          "name": "stdout",
          "text": [
            "Collecting pyspark\n",
            "  Downloading pyspark-3.1.2.tar.gz (212.4 MB)\n",
            "\u001b[K     |████████████████████████████████| 212.4 MB 69 kB/s \n",
            "\u001b[?25hCollecting py4j==0.10.9\n",
            "  Downloading py4j-0.10.9-py2.py3-none-any.whl (198 kB)\n",
            "\u001b[K     |████████████████████████████████| 198 kB 56.5 MB/s \n",
            "\u001b[?25hBuilding wheels for collected packages: pyspark\n",
            "  Building wheel for pyspark (setup.py) ... \u001b[?25l\u001b[?25hdone\n",
            "  Created wheel for pyspark: filename=pyspark-3.1.2-py2.py3-none-any.whl size=212880768 sha256=3ed695e5af4015c89f26e37158f7a71c7a2532823196a1b82759b26642ce2a66\n",
            "  Stored in directory: /root/.cache/pip/wheels/a5/0a/c1/9561f6fecb759579a7d863dcd846daaa95f598744e71b02c77\n",
            "Successfully built pyspark\n",
            "Installing collected packages: py4j, pyspark\n",
            "Successfully installed py4j-0.10.9 pyspark-3.1.2\n"
          ]
        }
      ]
    },
    {
      "cell_type": "code",
      "metadata": {
        "id": "-QNB3Gv-VHxM"
      },
      "source": [
        "import pyspark\n",
        "from pyspark.sql import SparkSession\n",
        "from pyspark.sql.functions import *"
      ],
      "execution_count": 16,
      "outputs": []
    },
    {
      "cell_type": "markdown",
      "metadata": {
        "id": "SDp80mG9jmfU"
      },
      "source": [
        "## Build Spark Session"
      ]
    },
    {
      "cell_type": "code",
      "metadata": {
        "id": "ttzML9fpjE5a"
      },
      "source": [
        "spark = SparkSession.builder.appName(\"App1\").getOrCreate()"
      ],
      "execution_count": 3,
      "outputs": []
    },
    {
      "cell_type": "markdown",
      "metadata": {
        "id": "TiqECDzLj1Mg"
      },
      "source": [
        "## Data Loading\n"
      ]
    },
    {
      "cell_type": "markdown",
      "metadata": {
        "id": "vn-hxNggkTqV"
      },
      "source": [
        "You have two datasets: \n",
        "* Train  \n",
        "* Test."
      ]
    },
    {
      "cell_type": "markdown",
      "metadata": {
        "id": "x8-A8M7QmKDJ"
      },
      "source": [
        "Read two datasets: \n",
        "* Train\n",
        "* Test.\n",
        "\n"
      ]
    },
    {
      "cell_type": "code",
      "metadata": {
        "id": "Mx2qAccBk15y",
        "colab": {
          "base_uri": "https://localhost:8080/"
        },
        "outputId": "cc195d5b-e5c7-46dc-9d72-6d6d199f1f8d"
      },
      "source": [
        "train_df = spark.read.csv('train.csv', header=True, inferSchema=True)\n",
        "train_df.show()"
      ],
      "execution_count": 6,
      "outputs": [
        {
          "output_type": "stream",
          "name": "stdout",
          "text": [
            "+-----------+--------+------+--------------------+------+----+-----+-----+----------------+-------+-----+--------+\n",
            "|PassengerId|Survived|Pclass|                Name|   Sex| Age|SibSp|Parch|          Ticket|   Fare|Cabin|Embarked|\n",
            "+-----------+--------+------+--------------------+------+----+-----+-----+----------------+-------+-----+--------+\n",
            "|          1|       0|     3|Braund, Mr. Owen ...|  male|22.0|    1|    0|       A/5 21171|   7.25| null|       S|\n",
            "|          2|       1|     1|Cumings, Mrs. Joh...|female|38.0|    1|    0|        PC 17599|71.2833|  C85|       C|\n",
            "|          3|       1|     3|Heikkinen, Miss. ...|female|26.0|    0|    0|STON/O2. 3101282|  7.925| null|       S|\n",
            "|          4|       1|     1|Futrelle, Mrs. Ja...|female|35.0|    1|    0|          113803|   53.1| C123|       S|\n",
            "|          5|       0|     3|Allen, Mr. Willia...|  male|35.0|    0|    0|          373450|   8.05| null|       S|\n",
            "|          6|       0|     3|    Moran, Mr. James|  male|null|    0|    0|          330877| 8.4583| null|       Q|\n",
            "|          7|       0|     1|McCarthy, Mr. Tim...|  male|54.0|    0|    0|           17463|51.8625|  E46|       S|\n",
            "|          8|       0|     3|Palsson, Master. ...|  male| 2.0|    3|    1|          349909| 21.075| null|       S|\n",
            "|          9|       1|     3|Johnson, Mrs. Osc...|female|27.0|    0|    2|          347742|11.1333| null|       S|\n",
            "|         10|       1|     2|Nasser, Mrs. Nich...|female|14.0|    1|    0|          237736|30.0708| null|       C|\n",
            "|         11|       1|     3|Sandstrom, Miss. ...|female| 4.0|    1|    1|         PP 9549|   16.7|   G6|       S|\n",
            "|         12|       1|     1|Bonnell, Miss. El...|female|58.0|    0|    0|          113783|  26.55| C103|       S|\n",
            "|         13|       0|     3|Saundercock, Mr. ...|  male|20.0|    0|    0|       A/5. 2151|   8.05| null|       S|\n",
            "|         14|       0|     3|Andersson, Mr. An...|  male|39.0|    1|    5|          347082| 31.275| null|       S|\n",
            "|         15|       0|     3|Vestrom, Miss. Hu...|female|14.0|    0|    0|          350406| 7.8542| null|       S|\n",
            "|         16|       1|     2|Hewlett, Mrs. (Ma...|female|55.0|    0|    0|          248706|   16.0| null|       S|\n",
            "|         17|       0|     3|Rice, Master. Eugene|  male| 2.0|    4|    1|          382652| 29.125| null|       Q|\n",
            "|         18|       1|     2|Williams, Mr. Cha...|  male|null|    0|    0|          244373|   13.0| null|       S|\n",
            "|         19|       0|     3|Vander Planke, Mr...|female|31.0|    1|    0|          345763|   18.0| null|       S|\n",
            "|         20|       1|     3|Masselmani, Mrs. ...|female|null|    0|    0|            2649|  7.225| null|       C|\n",
            "+-----------+--------+------+--------------------+------+----+-----+-----+----------------+-------+-----+--------+\n",
            "only showing top 20 rows\n",
            "\n"
          ]
        }
      ]
    },
    {
      "cell_type": "code",
      "metadata": {
        "colab": {
          "base_uri": "https://localhost:8080/"
        },
        "id": "P5ZQ3iszWAUm",
        "outputId": "7900feaf-f16c-46c6-fbb9-4d8dc65dcaad"
      },
      "source": [
        "test_df = spark.read.csv('test.csv', header=True, inferSchema=True)\n",
        "test_df.show()"
      ],
      "execution_count": 7,
      "outputs": [
        {
          "output_type": "stream",
          "name": "stdout",
          "text": [
            "+-----------+--------+------+--------------------+------+----+-----+-----+------------------+-------+-----+--------+\n",
            "|PassengerId|Survived|Pclass|                Name|   Sex| Age|SibSp|Parch|            Ticket|   Fare|Cabin|Embarked|\n",
            "+-----------+--------+------+--------------------+------+----+-----+-----+------------------+-------+-----+--------+\n",
            "|          1|       1|     1|Goldenberg, Mr. S...|  male|49.0|    1|    0|             17453|89.1042|  C92|       C|\n",
            "|          2|       0|     3| Peduzzi, Mr. Joseph|  male|null|    0|    0|          A/5 2817|   8.05| null|       S|\n",
            "|          3|       1|     3|  Jalsevac, Mr. Ivan|  male|29.0|    0|    0|            349240| 7.8958| null|       C|\n",
            "|          4|       0|     1|Millet, Mr. Franc...|  male|65.0|    0|    0|             13509|  26.55|  E38|       S|\n",
            "|          5|       1|     1|Kenyon, Mrs. Fred...|female|null|    1|    0|             17464|51.8625|  D21|       S|\n",
            "|          6|       1|     2| Toomey, Miss. Ellen|female|50.0|    0|    0|      F.C.C. 13531|   10.5| null|       S|\n",
            "|          7|       0|     3|O'Connor, Mr. Mau...|  male|null|    0|    0|            371060|   7.75| null|       Q|\n",
            "|          8|       1|     1| Anderson, Mr. Harry|  male|48.0|    0|    0|             19952|  26.55|  E12|       S|\n",
            "|          9|       0|     3| Morley, Mr. William|  male|34.0|    0|    0|            364506|   8.05| null|       S|\n",
            "|         10|       0|     1|   Gee, Mr. Arthur H|  male|47.0|    0|    0|            111320|   38.5|  E63|       S|\n",
            "|         11|       0|     2|Milling, Mr. Jaco...|  male|48.0|    0|    0|            234360|   13.0| null|       S|\n",
            "|         12|       0|     3|  Maisner, Mr. Simon|  male|null|    0|    0|          A/S 2816|   8.05| null|       S|\n",
            "|         13|       0|     3|Goncalves, Mr. Ma...|  male|38.0|    0|    0|SOTON/O.Q. 3101306|   7.05| null|       S|\n",
            "|         14|       0|     2|Campbell, Mr. Wil...|  male|null|    0|    0|            239853|    0.0| null|       S|\n",
            "|         15|       0|     1|Smart, Mr. John M...|  male|56.0|    0|    0|            113792|  26.55| null|       S|\n",
            "|         16|       0|     3|  Scanlan, Mr. James|  male|null|    0|    0|             36209|  7.725| null|       Q|\n",
            "|         17|       1|     3|Baclini, Miss. He...|female|0.75|    2|    1|              2666|19.2583| null|       C|\n",
            "|         18|       0|     3|   Keefe, Mr. Arthur|  male|null|    0|    0|            323592|   7.25| null|       S|\n",
            "|         19|       0|     3|     Cacic, Mr. Luka|  male|38.0|    0|    0|            315089| 8.6625| null|       S|\n",
            "|         20|       1|     2|West, Mrs. Edwy A...|female|33.0|    1|    2|        C.A. 34651|  27.75| null|       S|\n",
            "+-----------+--------+------+--------------------+------+----+-----+-----+------------------+-------+-----+--------+\n",
            "only showing top 20 rows\n",
            "\n"
          ]
        }
      ]
    },
    {
      "cell_type": "markdown",
      "metadata": {
        "id": "Lj2ANTnWmSCq"
      },
      "source": [
        "Let's work with train dataset:"
      ]
    },
    {
      "cell_type": "markdown",
      "metadata": {
        "id": "b5mWJR30lNs5"
      },
      "source": [
        "**Confirm if this is a dataframe or not:**"
      ]
    },
    {
      "cell_type": "code",
      "metadata": {
        "id": "tEYTePrzk9yl",
        "colab": {
          "base_uri": "https://localhost:8080/"
        },
        "outputId": "4de5256c-2c2a-427c-e6ab-4404dd91cfe5"
      },
      "source": [
        "type(train_df)"
      ],
      "execution_count": 8,
      "outputs": [
        {
          "output_type": "execute_result",
          "data": {
            "text/plain": [
              "pyspark.sql.dataframe.DataFrame"
            ]
          },
          "metadata": {},
          "execution_count": 8
        }
      ]
    },
    {
      "cell_type": "markdown",
      "metadata": {
        "id": "lvLJElPrlT4i"
      },
      "source": [
        "**Show 5 rows.**"
      ]
    },
    {
      "cell_type": "code",
      "metadata": {
        "id": "jYwhqvV8lnO0",
        "colab": {
          "base_uri": "https://localhost:8080/"
        },
        "outputId": "962ce09a-2b23-41f6-fe57-ebea609d31aa"
      },
      "source": [
        "train_df.show(5)"
      ],
      "execution_count": 9,
      "outputs": [
        {
          "output_type": "stream",
          "name": "stdout",
          "text": [
            "+-----------+--------+------+--------------------+------+----+-----+-----+----------------+-------+-----+--------+\n",
            "|PassengerId|Survived|Pclass|                Name|   Sex| Age|SibSp|Parch|          Ticket|   Fare|Cabin|Embarked|\n",
            "+-----------+--------+------+--------------------+------+----+-----+-----+----------------+-------+-----+--------+\n",
            "|          1|       0|     3|Braund, Mr. Owen ...|  male|22.0|    1|    0|       A/5 21171|   7.25| null|       S|\n",
            "|          2|       1|     1|Cumings, Mrs. Joh...|female|38.0|    1|    0|        PC 17599|71.2833|  C85|       C|\n",
            "|          3|       1|     3|Heikkinen, Miss. ...|female|26.0|    0|    0|STON/O2. 3101282|  7.925| null|       S|\n",
            "|          4|       1|     1|Futrelle, Mrs. Ja...|female|35.0|    1|    0|          113803|   53.1| C123|       S|\n",
            "|          5|       0|     3|Allen, Mr. Willia...|  male|35.0|    0|    0|          373450|   8.05| null|       S|\n",
            "+-----------+--------+------+--------------------+------+----+-----+-----+----------------+-------+-----+--------+\n",
            "only showing top 5 rows\n",
            "\n"
          ]
        }
      ]
    },
    {
      "cell_type": "markdown",
      "metadata": {
        "id": "6QIYVxRXlnnw"
      },
      "source": [
        "**Display schema for the dataset:**"
      ]
    },
    {
      "cell_type": "code",
      "metadata": {
        "id": "pcvERiICl1Ep",
        "colab": {
          "base_uri": "https://localhost:8080/"
        },
        "outputId": "2d3f485d-368c-4f71-8591-48a1e289c14c"
      },
      "source": [
        "train_df.printSchema()"
      ],
      "execution_count": 10,
      "outputs": [
        {
          "output_type": "stream",
          "name": "stdout",
          "text": [
            "root\n",
            " |-- PassengerId: integer (nullable = true)\n",
            " |-- Survived: integer (nullable = true)\n",
            " |-- Pclass: integer (nullable = true)\n",
            " |-- Name: string (nullable = true)\n",
            " |-- Sex: string (nullable = true)\n",
            " |-- Age: double (nullable = true)\n",
            " |-- SibSp: integer (nullable = true)\n",
            " |-- Parch: integer (nullable = true)\n",
            " |-- Ticket: string (nullable = true)\n",
            " |-- Fare: double (nullable = true)\n",
            " |-- Cabin: string (nullable = true)\n",
            " |-- Embarked: string (nullable = true)\n",
            "\n"
          ]
        }
      ]
    },
    {
      "cell_type": "markdown",
      "metadata": {
        "id": "xmE3Wd80l1S6"
      },
      "source": [
        "**Statistical summary:**"
      ]
    },
    {
      "cell_type": "code",
      "metadata": {
        "id": "cNY0SItol5Mo",
        "colab": {
          "base_uri": "https://localhost:8080/"
        },
        "outputId": "d5ea9896-851a-42c3-9ca0-e4fd48ba9db0"
      },
      "source": [
        "train_df.describe().show()"
      ],
      "execution_count": 12,
      "outputs": [
        {
          "output_type": "stream",
          "name": "stdout",
          "text": [
            "+-------+-----------------+-------------------+------------------+--------------------+------+------------------+------------------+-------------------+------------------+-----------------+-----+--------+\n",
            "|summary|      PassengerId|           Survived|            Pclass|                Name|   Sex|               Age|             SibSp|              Parch|            Ticket|             Fare|Cabin|Embarked|\n",
            "+-------+-----------------+-------------------+------------------+--------------------+------+------------------+------------------+-------------------+------------------+-----------------+-----+--------+\n",
            "|  count|              891|                891|               891|                 891|   891|               714|               891|                891|               891|              891|  204|     889|\n",
            "|   mean|            446.0| 0.3838383838383838| 2.308641975308642|                null|  null| 29.69911764705882|0.5230078563411896|0.38159371492704824|260318.54916792738| 32.2042079685746| null|    null|\n",
            "| stddev|257.3538420152301|0.48659245426485753|0.8360712409770491|                null|  null|14.526497332334035|1.1027434322934315| 0.8060572211299488|471609.26868834975|49.69342859718089| null|    null|\n",
            "|    min|                1|                  0|                 1|\"Andersson, Mr. A...|female|              0.42|                 0|                  0|            110152|              0.0|  A10|       C|\n",
            "|    max|              891|                  1|                 3|van Melkebeke, Mr...|  male|              80.0|                 8|                  6|         WE/P 5735|         512.3292|    T|       S|\n",
            "+-------+-----------------+-------------------+------------------+--------------------+------+------------------+------------------+-------------------+------------------+-----------------+-----+--------+\n",
            "\n"
          ]
        }
      ]
    },
    {
      "cell_type": "markdown",
      "metadata": {
        "id": "HiFaIEQTl70_"
      },
      "source": [
        "## EDA - Exploratory Data Analysis"
      ]
    },
    {
      "cell_type": "markdown",
      "metadata": {
        "id": "PSNPOnP8mw2Q"
      },
      "source": [
        "**Display count for the train dataset:**"
      ]
    },
    {
      "cell_type": "code",
      "metadata": {
        "id": "zrtpG11Fl9HM",
        "colab": {
          "base_uri": "https://localhost:8080/"
        },
        "outputId": "412e1351-a81e-41c9-abae-8e5f7519311f"
      },
      "source": [
        "train_df.count()"
      ],
      "execution_count": 13,
      "outputs": [
        {
          "output_type": "execute_result",
          "data": {
            "text/plain": [
              "891"
            ]
          },
          "metadata": {},
          "execution_count": 13
        }
      ]
    },
    {
      "cell_type": "markdown",
      "metadata": {
        "id": "t_6nnTfxm9_x"
      },
      "source": [
        "**Can you answer this question:** \n",
        "\n",
        "**How many people survived, and how many didn't survive?** \n",
        "\n",
        "**Please save data in a variable.**"
      ]
    },
    {
      "cell_type": "code",
      "metadata": {
        "colab": {
          "base_uri": "https://localhost:8080/"
        },
        "id": "zJwZu3ZdYLM-",
        "outputId": "b7954e34-5811-4703-a8af-9152a189ae2e"
      },
      "source": [
        "train_df.show(5)"
      ],
      "execution_count": 14,
      "outputs": [
        {
          "output_type": "stream",
          "name": "stdout",
          "text": [
            "+-----------+--------+------+--------------------+------+----+-----+-----+----------------+-------+-----+--------+\n",
            "|PassengerId|Survived|Pclass|                Name|   Sex| Age|SibSp|Parch|          Ticket|   Fare|Cabin|Embarked|\n",
            "+-----------+--------+------+--------------------+------+----+-----+-----+----------------+-------+-----+--------+\n",
            "|          1|       0|     3|Braund, Mr. Owen ...|  male|22.0|    1|    0|       A/5 21171|   7.25| null|       S|\n",
            "|          2|       1|     1|Cumings, Mrs. Joh...|female|38.0|    1|    0|        PC 17599|71.2833|  C85|       C|\n",
            "|          3|       1|     3|Heikkinen, Miss. ...|female|26.0|    0|    0|STON/O2. 3101282|  7.925| null|       S|\n",
            "|          4|       1|     1|Futrelle, Mrs. Ja...|female|35.0|    1|    0|          113803|   53.1| C123|       S|\n",
            "|          5|       0|     3|Allen, Mr. Willia...|  male|35.0|    0|    0|          373450|   8.05| null|       S|\n",
            "+-----------+--------+------+--------------------+------+----+-----+-----+----------------+-------+-----+--------+\n",
            "only showing top 5 rows\n",
            "\n"
          ]
        }
      ]
    },
    {
      "cell_type": "code",
      "metadata": {
        "colab": {
          "base_uri": "https://localhost:8080/"
        },
        "id": "lcMDMNerZeAX",
        "outputId": "454f389d-0e6c-423e-c261-09eeaed278d6"
      },
      "source": [
        "train_df.select('Survived')\\\n",
        " .groupBy('Survived')\\\n",
        " .count()\\\n",
        " .show()\n"
      ],
      "execution_count": 21,
      "outputs": [
        {
          "output_type": "stream",
          "name": "stdout",
          "text": [
            "+--------+-----+\n",
            "|Survived|count|\n",
            "+--------+-----+\n",
            "|       1|  342|\n",
            "|       0|  549|\n",
            "+--------+-----+\n",
            "\n"
          ]
        }
      ]
    },
    {
      "cell_type": "code",
      "metadata": {
        "id": "QDoqPwyomYxA"
      },
      "source": [
        "survived = train_df.select('Survived').where(train_df['Survived'] == 1).count()\n",
        "not_survived =train_df.select('Survived').where(train_df['Survived'] == 0).count()"
      ],
      "execution_count": 22,
      "outputs": []
    },
    {
      "cell_type": "markdown",
      "metadata": {
        "id": "P8DUtZXPn46m"
      },
      "source": [
        "**Display your result:**"
      ]
    },
    {
      "cell_type": "code",
      "metadata": {
        "colab": {
          "base_uri": "https://localhost:8080/"
        },
        "id": "ChF8HlmZac73",
        "outputId": "6e50a7ca-e8c8-42f0-e930-8909eed8c2b1"
      },
      "source": [
        "print(survived)\n",
        "print(not_survived)"
      ],
      "execution_count": 24,
      "outputs": [
        {
          "output_type": "stream",
          "name": "stdout",
          "text": [
            "342\n",
            "549\n"
          ]
        }
      ]
    },
    {
      "cell_type": "markdown",
      "metadata": {
        "id": "Ygsg7wQqor9a"
      },
      "source": [
        "**Can you display your answer in ratio form?(Hint: Use \"UDF\" Function. (Hint: Use \"UDF\" Function. This is a hint you can use any method.)**\n",
        "\n",
        "\n",
        "\n",
        "\n"
      ]
    },
    {
      "cell_type": "code",
      "metadata": {
        "id": "3uiaN29PoQnf"
      },
      "source": [
        "from pyspark.sql.functions import udf\n",
        "from pyspark.sql.types import *\n",
        "from pyspark.sql.types import IntegerType"
      ],
      "execution_count": 30,
      "outputs": []
    },
    {
      "cell_type": "code",
      "metadata": {
        "colab": {
          "base_uri": "https://localhost:8080/"
        },
        "id": "y_qu5781cgeo",
        "outputId": "61f9c04c-e90d-4f1c-8fd0-53c28d2623d0"
      },
      "source": [
        "total = train_df.select('Survived').count()\n",
        "total"
      ],
      "execution_count": 25,
      "outputs": [
        {
          "output_type": "execute_result",
          "data": {
            "text/plain": [
              "891"
            ]
          },
          "metadata": {},
          "execution_count": 25
        }
      ]
    },
    {
      "cell_type": "code",
      "metadata": {
        "colab": {
          "base_uri": "https://localhost:8080/"
        },
        "id": "XyLMwHsidWzP",
        "outputId": "d8aea138-a628-4411-8745-34feed59a3af"
      },
      "source": [
        "Survived_ratio = survived / total\n",
        "Not_Survived_ratio = not_survived / total\n",
        "print(\"Ratio of survived : {}\".format(Survived_ratio))\n",
        "print(\"Ratio of not survived : {}\".format(Not_Survived_ratio))"
      ],
      "execution_count": 27,
      "outputs": [
        {
          "output_type": "stream",
          "name": "stdout",
          "text": [
            "Ratio of survived : 0.3838383838383838\n",
            "Ratio of not survived : 0.6161616161616161\n"
          ]
        }
      ]
    },
    {
      "cell_type": "code",
      "metadata": {
        "id": "9H2i4I9AcLRo"
      },
      "source": [
        "@udf(returnType=IntegerType())\n",
        "def getRatio(number):\n",
        "  ratio = number/total\n",
        "  return ratio"
      ],
      "execution_count": 37,
      "outputs": []
    },
    {
      "cell_type": "code",
      "metadata": {
        "colab": {
          "base_uri": "https://localhost:8080/"
        },
        "id": "9up0kgUSdCxd",
        "outputId": "c01a6362-5893-414b-aa49-6ebade0e21b9"
      },
      "source": [
        "spark.udf.register(\"getRatioudf\", getRatio)"
      ],
      "execution_count": 40,
      "outputs": [
        {
          "output_type": "execute_result",
          "data": {
            "text/plain": [
              "<function __main__.getRatio>"
            ]
          },
          "metadata": {},
          "execution_count": 40
        }
      ]
    },
    {
      "cell_type": "code",
      "metadata": {
        "colab": {
          "base_uri": "https://localhost:8080/"
        },
        "id": "FO98wikDe2RN",
        "outputId": "243be17c-d406-4a5a-eb96-98d6f4488cfb"
      },
      "source": [
        "from pyspark.sql.functions import *\n",
        "from pyspark.sql.types import *\n",
        "train_df.withColumn(\"ratio\", getRatio(col(\"Survived\"))).show(truncate=False)"
      ],
      "execution_count": 44,
      "outputs": [
        {
          "output_type": "stream",
          "name": "stdout",
          "text": [
            "+-----------+--------+------+-------------------------------------------------------+------+----+-----+-----+----------------+-------+-----+--------+-----+\n",
            "|PassengerId|Survived|Pclass|Name                                                   |Sex   |Age |SibSp|Parch|Ticket          |Fare   |Cabin|Embarked|ratio|\n",
            "+-----------+--------+------+-------------------------------------------------------+------+----+-----+-----+----------------+-------+-----+--------+-----+\n",
            "|1          |0       |3     |Braund, Mr. Owen Harris                                |male  |22.0|1    |0    |A/5 21171       |7.25   |null |S       |null |\n",
            "|2          |1       |1     |Cumings, Mrs. John Bradley (Florence Briggs Thayer)    |female|38.0|1    |0    |PC 17599        |71.2833|C85  |C       |null |\n",
            "|3          |1       |3     |Heikkinen, Miss. Laina                                 |female|26.0|0    |0    |STON/O2. 3101282|7.925  |null |S       |null |\n",
            "|4          |1       |1     |Futrelle, Mrs. Jacques Heath (Lily May Peel)           |female|35.0|1    |0    |113803          |53.1   |C123 |S       |null |\n",
            "|5          |0       |3     |Allen, Mr. William Henry                               |male  |35.0|0    |0    |373450          |8.05   |null |S       |null |\n",
            "|6          |0       |3     |Moran, Mr. James                                       |male  |null|0    |0    |330877          |8.4583 |null |Q       |null |\n",
            "|7          |0       |1     |McCarthy, Mr. Timothy J                                |male  |54.0|0    |0    |17463           |51.8625|E46  |S       |null |\n",
            "|8          |0       |3     |Palsson, Master. Gosta Leonard                         |male  |2.0 |3    |1    |349909          |21.075 |null |S       |null |\n",
            "|9          |1       |3     |Johnson, Mrs. Oscar W (Elisabeth Vilhelmina Berg)      |female|27.0|0    |2    |347742          |11.1333|null |S       |null |\n",
            "|10         |1       |2     |Nasser, Mrs. Nicholas (Adele Achem)                    |female|14.0|1    |0    |237736          |30.0708|null |C       |null |\n",
            "|11         |1       |3     |Sandstrom, Miss. Marguerite Rut                        |female|4.0 |1    |1    |PP 9549         |16.7   |G6   |S       |null |\n",
            "|12         |1       |1     |Bonnell, Miss. Elizabeth                               |female|58.0|0    |0    |113783          |26.55  |C103 |S       |null |\n",
            "|13         |0       |3     |Saundercock, Mr. William Henry                         |male  |20.0|0    |0    |A/5. 2151       |8.05   |null |S       |null |\n",
            "|14         |0       |3     |Andersson, Mr. Anders Johan                            |male  |39.0|1    |5    |347082          |31.275 |null |S       |null |\n",
            "|15         |0       |3     |Vestrom, Miss. Hulda Amanda Adolfina                   |female|14.0|0    |0    |350406          |7.8542 |null |S       |null |\n",
            "|16         |1       |2     |Hewlett, Mrs. (Mary D Kingcome)                        |female|55.0|0    |0    |248706          |16.0   |null |S       |null |\n",
            "|17         |0       |3     |Rice, Master. Eugene                                   |male  |2.0 |4    |1    |382652          |29.125 |null |Q       |null |\n",
            "|18         |1       |2     |Williams, Mr. Charles Eugene                           |male  |null|0    |0    |244373          |13.0   |null |S       |null |\n",
            "|19         |0       |3     |Vander Planke, Mrs. Julius (Emelia Maria Vandemoortele)|female|31.0|1    |0    |345763          |18.0   |null |S       |null |\n",
            "|20         |1       |3     |Masselmani, Mrs. Fatima                                |female|null|0    |0    |2649            |7.225  |null |C       |null |\n",
            "+-----------+--------+------+-------------------------------------------------------+------+----+-----+-----+----------------+-------+-----+--------+-----+\n",
            "only showing top 20 rows\n",
            "\n"
          ]
        }
      ]
    },
    {
      "cell_type": "markdown",
      "metadata": {
        "id": "Q7Aker_lp1h4"
      },
      "source": [
        "**Can you get the number of males and females?**\n"
      ]
    },
    {
      "cell_type": "code",
      "metadata": {
        "id": "XllkDlo3ongJ",
        "colab": {
          "base_uri": "https://localhost:8080/"
        },
        "outputId": "296e495c-aa2e-43a1-b93b-acf60decfefd"
      },
      "source": [
        "train_df.select('Sex')\\\n",
        " .groupBy('Sex')\\\n",
        " .count()\\\n",
        " .show()"
      ],
      "execution_count": 45,
      "outputs": [
        {
          "output_type": "stream",
          "name": "stdout",
          "text": [
            "+------+-----+\n",
            "|   Sex|count|\n",
            "+------+-----+\n",
            "|female|  314|\n",
            "|  male|  577|\n",
            "+------+-----+\n",
            "\n"
          ]
        }
      ]
    },
    {
      "cell_type": "markdown",
      "metadata": {
        "id": "YHFaJ15zqtEV"
      },
      "source": [
        "**1. What is the average number of survivors of each gender?**\n",
        "\n",
        "**2. What is the number of survivors of each gender?**\n",
        "\n",
        "(Hint: Group by the \"sex\" column. This is a hint you can use any method.)"
      ]
    },
    {
      "cell_type": "code",
      "metadata": {
        "colab": {
          "base_uri": "https://localhost:8080/"
        },
        "id": "i001aqxih8Ym",
        "outputId": "d6a89e7a-166e-4765-b030-62cf4a44b169"
      },
      "source": [
        "train_df.groupby([\"Sex\"]).agg(count('Survived')).show()"
      ],
      "execution_count": 51,
      "outputs": [
        {
          "output_type": "stream",
          "name": "stdout",
          "text": [
            "+------+---------------+\n",
            "|   Sex|count(Survived)|\n",
            "+------+---------------+\n",
            "|female|            314|\n",
            "|  male|            577|\n",
            "+------+---------------+\n",
            "\n"
          ]
        }
      ]
    },
    {
      "cell_type": "code",
      "metadata": {
        "colab": {
          "base_uri": "https://localhost:8080/"
        },
        "id": "wE5en1cYswgx",
        "outputId": "b092c948-ba1b-46a2-81ed-b774ea3d010d"
      },
      "source": [
        "from pyspark.sql.functions import col\n",
        "(train_df.where(col('Survived') == 1).groupBy('Sex').count().show()\n",
        ")"
      ],
      "execution_count": 80,
      "outputs": [
        {
          "output_type": "stream",
          "name": "stdout",
          "text": [
            "+------+-----+\n",
            "|   Sex|count|\n",
            "+------+-----+\n",
            "|female|  233|\n",
            "|  male|  109|\n",
            "+------+-----+\n",
            "\n"
          ]
        }
      ]
    },
    {
      "cell_type": "code",
      "metadata": {
        "colab": {
          "base_uri": "https://localhost:8080/"
        },
        "id": "bRifYW3cit0q",
        "outputId": "83f6e1bf-f964-46cb-8165-3cae915622ff"
      },
      "source": [
        "train_df.groupBy(\"Sex\").agg(avg(\"Survived\")).show()"
      ],
      "execution_count": 50,
      "outputs": [
        {
          "output_type": "stream",
          "name": "stdout",
          "text": [
            "+------+-------------------+\n",
            "|   Sex|      avg(Survived)|\n",
            "+------+-------------------+\n",
            "|female| 0.7420382165605095|\n",
            "|  male|0.18890814558058924|\n",
            "+------+-------------------+\n",
            "\n"
          ]
        }
      ]
    },
    {
      "cell_type": "markdown",
      "metadata": {
        "id": "kCEdYNdArtRN"
      },
      "source": [
        "**Create temporary view PySpark:**"
      ]
    },
    {
      "cell_type": "code",
      "metadata": {
        "id": "YjlK6HDUqsI5"
      },
      "source": [
        "train_df.createOrReplaceTempView(\"DF\")"
      ],
      "execution_count": 53,
      "outputs": []
    },
    {
      "cell_type": "markdown",
      "metadata": {
        "id": "JXNePifnshHr"
      },
      "source": [
        "**How many people survived, and how many didn't survive? By SQL:**"
      ]
    },
    {
      "cell_type": "code",
      "metadata": {
        "id": "0HxfPRTMslqk",
        "colab": {
          "base_uri": "https://localhost:8080/"
        },
        "outputId": "d9678333-7fa3-418e-b9b6-e2a39d16fcfd"
      },
      "source": [
        "spark.sql(\"SELECT Survived, COUNT(Survived) FROM DF GROUP BY Survived\").show()"
      ],
      "execution_count": 55,
      "outputs": [
        {
          "output_type": "stream",
          "name": "stdout",
          "text": [
            "+--------+---------------+\n",
            "|Survived|count(Survived)|\n",
            "+--------+---------------+\n",
            "|       1|            342|\n",
            "|       0|            549|\n",
            "+--------+---------------+\n",
            "\n"
          ]
        }
      ]
    },
    {
      "cell_type": "markdown",
      "metadata": {
        "id": "sVCdY6EasFWV"
      },
      "source": [
        "**Can you display the number of survivors from each gender as a ratio?**\n",
        "\n",
        "(Hint: Group by \"sex\" column. This is a hint you can use any method.)\n",
        "\n",
        "**Can you do this via SQL?**"
      ]
    },
    {
      "cell_type": "code",
      "metadata": {
        "colab": {
          "base_uri": "https://localhost:8080/"
        },
        "id": "ede9DWVMnyib",
        "outputId": "b912c594-ced4-42bf-db95-790b9de1d16a"
      },
      "source": [
        "spark.sql(\"SELECT Sex, SUM(Survived)/COUNT(Survived) as count FROM DF GROUP BY Sex\").show()"
      ],
      "execution_count": 70,
      "outputs": [
        {
          "output_type": "stream",
          "name": "stdout",
          "text": [
            "+------+-------------------+\n",
            "|   Sex|              count|\n",
            "+------+-------------------+\n",
            "|female| 0.7420382165605095|\n",
            "|  male|0.18890814558058924|\n",
            "+------+-------------------+\n",
            "\n"
          ]
        }
      ]
    },
    {
      "cell_type": "code",
      "metadata": {
        "id": "7xQc3pUUr3HF",
        "colab": {
          "base_uri": "https://localhost:8080/"
        },
        "outputId": "b20108da-5b9a-4e44-c7ae-b5cb3d0757ba"
      },
      "source": [
        "spark.sql(\"SELECT Sex, AVG(Survived) FROM DF GROUP BY Sex\").show()"
      ],
      "execution_count": 72,
      "outputs": [
        {
          "output_type": "stream",
          "name": "stdout",
          "text": [
            "+------+-------------------+\n",
            "|   Sex|      avg(Survived)|\n",
            "+------+-------------------+\n",
            "|female| 0.7420382165605095|\n",
            "|  male|0.18890814558058924|\n",
            "+------+-------------------+\n",
            "\n"
          ]
        }
      ]
    },
    {
      "cell_type": "markdown",
      "metadata": {
        "id": "j6QXc5V8uu3Y"
      },
      "source": [
        "**Display a ratio for \"p-class\": SUM(Survived)/count for p-class**\n"
      ]
    },
    {
      "cell_type": "code",
      "metadata": {
        "id": "Mscs2mDFdFsD",
        "colab": {
          "base_uri": "https://localhost:8080/"
        },
        "outputId": "dd6e5ed9-752a-4158-cc8c-0cd44b017cb9"
      },
      "source": [
        "#spark.sql(\"SELECT Pclass, SUM(Survived)/COUNT(Survived) as count FROM DF GROUP BY Pclass\").show()\n",
        "spark.sql(\"SELECT COUNT(Survived)/(SELECT COUNT(SURVIVED) FROM DF) FROM DF GROUP BY Pclass\").show()"
      ],
      "execution_count": 75,
      "outputs": [
        {
          "output_type": "stream",
          "name": "stdout",
          "text": [
            "+--------------------------------------------------------------------+\n",
            "|(CAST(count(Survived) AS DOUBLE) / CAST(scalarsubquery() AS DOUBLE))|\n",
            "+--------------------------------------------------------------------+\n",
            "|                                                 0.24242424242424243|\n",
            "|                                                  0.5510662177328844|\n",
            "|                                                 0.20650953984287318|\n",
            "+--------------------------------------------------------------------+\n",
            "\n"
          ]
        }
      ]
    },
    {
      "cell_type": "markdown",
      "metadata": {
        "id": "EX0klxwAvg6J"
      },
      "source": [
        "**Let's take a break and continue after this.**"
      ]
    },
    {
      "cell_type": "markdown",
      "metadata": {
        "id": "_ctM9t8atxJl"
      },
      "source": [
        "## Data Cleaning"
      ]
    },
    {
      "cell_type": "markdown",
      "metadata": {
        "id": "7CfanZTCt6Wk"
      },
      "source": [
        "**First and foremost, we must merge both the train and test datasets. (Hint: The union function can do this.)**\n",
        "\n"
      ]
    },
    {
      "cell_type": "code",
      "metadata": {
        "id": "8Nm8S1K0r4uY"
      },
      "source": [
        "df = train_df.union(test_df)"
      ],
      "execution_count": 266,
      "outputs": []
    },
    {
      "cell_type": "markdown",
      "metadata": {
        "id": "jI7AD8FLz3iO"
      },
      "source": [
        "**Display count:**"
      ]
    },
    {
      "cell_type": "code",
      "metadata": {
        "id": "s_WERAL8wvJa",
        "colab": {
          "base_uri": "https://localhost:8080/"
        },
        "outputId": "453e634a-badd-476f-8232-60d56ced6f13"
      },
      "source": [
        "df.count()"
      ],
      "execution_count": 267,
      "outputs": [
        {
          "output_type": "execute_result",
          "data": {
            "text/plain": [
              "1329"
            ]
          },
          "metadata": {},
          "execution_count": 267
        }
      ]
    },
    {
      "cell_type": "markdown",
      "metadata": {
        "id": "5R4Miuy0z_uP"
      },
      "source": [
        "**Can you define the number of null values in each column?**\n"
      ]
    },
    {
      "cell_type": "code",
      "metadata": {
        "id": "0LMOalKBxhpD",
        "colab": {
          "base_uri": "https://localhost:8080/"
        },
        "outputId": "fcc9ce6c-7a3c-471a-fe23-2f64f837b025"
      },
      "source": [
        "from pyspark.sql.functions import isnan, when, count, col\n",
        "\n",
        "df.select([count(when(isnan(c) | col(c).isNull(), c)).alias(c) for c in df.columns]).show()"
      ],
      "execution_count": 268,
      "outputs": [
        {
          "output_type": "stream",
          "name": "stdout",
          "text": [
            "+-----------+--------+------+----+---+---+-----+-----+------+----+-----+--------+\n",
            "|PassengerId|Survived|Pclass|Name|Sex|Age|SibSp|Parch|Ticket|Fare|Cabin|Embarked|\n",
            "+-----------+--------+------+----+---+---+-----+-----+------+----+-----+--------+\n",
            "|          0|       0|     0|   0|  0|265|    0|    0|     0|   0| 1021|       3|\n",
            "+-----------+--------+------+----+---+---+-----+-----+------+----+-----+--------+\n",
            "\n"
          ]
        }
      ]
    },
    {
      "cell_type": "markdown",
      "metadata": {
        "id": "tBX8cJ000aqe"
      },
      "source": [
        "**Create Dataframe for null values**\n",
        "\n",
        "1. Column\n",
        "2. Number of missing values."
      ]
    },
    {
      "cell_type": "code",
      "metadata": {
        "id": "ITmyUelNxjJM",
        "colab": {
          "base_uri": "https://localhost:8080/"
        },
        "outputId": "4616559a-ce29-42a4-8dba-fdadbc82fafb"
      },
      "source": [
        "nulls = df.select([count(when(isnan(c) | col(c).isNull(), c)).alias(c) for c in df.columns])\n",
        "print(\"---------------------------------------------------\")\n",
        "\n",
        "import pyspark.sql.functions as F\n",
        "nulldf = nulls.select([F.col('Age'), F.col('Cabin'), F.col('Embarked')])\n",
        "nulldf.show()"
      ],
      "execution_count": 269,
      "outputs": [
        {
          "output_type": "stream",
          "name": "stdout",
          "text": [
            "---------------------------------------------------\n",
            "+---+-----+--------+\n",
            "|Age|Cabin|Embarked|\n",
            "+---+-----+--------+\n",
            "|265| 1021|       3|\n",
            "+---+-----+--------+\n",
            "\n"
          ]
        }
      ]
    },
    {
      "cell_type": "markdown",
      "metadata": {
        "id": "cuKrOi5a0-Ma"
      },
      "source": [
        "## Preprocessing "
      ]
    },
    {
      "cell_type": "markdown",
      "metadata": {
        "id": "lVQlr9vDy7Y4"
      },
      "source": [
        "**Create Temporary view PySpark:**"
      ]
    },
    {
      "cell_type": "code",
      "metadata": {
        "id": "xs3yeXhGI8rv"
      },
      "source": [
        "df.createOrReplaceTempView(\"DF\")"
      ],
      "execution_count": 270,
      "outputs": []
    },
    {
      "cell_type": "markdown",
      "metadata": {
        "id": "Txa8NZIO1JaP"
      },
      "source": [
        "**Can you show the \"name\" column from your temporary table?**"
      ]
    },
    {
      "cell_type": "code",
      "metadata": {
        "id": "m7yXqJoJy35k",
        "colab": {
          "base_uri": "https://localhost:8080/"
        },
        "outputId": "d9098ae1-5d46-4752-b0a5-a350b848d639"
      },
      "source": [
        "spark.sql('SELECT Name FROM DF').show(truncate=False)"
      ],
      "execution_count": 271,
      "outputs": [
        {
          "output_type": "stream",
          "name": "stdout",
          "text": [
            "+-------------------------------------------------------+\n",
            "|Name                                                   |\n",
            "+-------------------------------------------------------+\n",
            "|Braund, Mr. Owen Harris                                |\n",
            "|Cumings, Mrs. John Bradley (Florence Briggs Thayer)    |\n",
            "|Heikkinen, Miss. Laina                                 |\n",
            "|Futrelle, Mrs. Jacques Heath (Lily May Peel)           |\n",
            "|Allen, Mr. William Henry                               |\n",
            "|Moran, Mr. James                                       |\n",
            "|McCarthy, Mr. Timothy J                                |\n",
            "|Palsson, Master. Gosta Leonard                         |\n",
            "|Johnson, Mrs. Oscar W (Elisabeth Vilhelmina Berg)      |\n",
            "|Nasser, Mrs. Nicholas (Adele Achem)                    |\n",
            "|Sandstrom, Miss. Marguerite Rut                        |\n",
            "|Bonnell, Miss. Elizabeth                               |\n",
            "|Saundercock, Mr. William Henry                         |\n",
            "|Andersson, Mr. Anders Johan                            |\n",
            "|Vestrom, Miss. Hulda Amanda Adolfina                   |\n",
            "|Hewlett, Mrs. (Mary D Kingcome)                        |\n",
            "|Rice, Master. Eugene                                   |\n",
            "|Williams, Mr. Charles Eugene                           |\n",
            "|Vander Planke, Mrs. Julius (Emelia Maria Vandemoortele)|\n",
            "|Masselmani, Mrs. Fatima                                |\n",
            "+-------------------------------------------------------+\n",
            "only showing top 20 rows\n",
            "\n"
          ]
        }
      ]
    },
    {
      "cell_type": "markdown",
      "metadata": {
        "id": "3F0F9cTZ2Cuz"
      },
      "source": [
        "**Run this code:**"
      ]
    },
    {
      "cell_type": "code",
      "metadata": {
        "id": "0kx6OcB-2BBT"
      },
      "source": [
        "import pyspark.sql.functions as F\n",
        "combined = df.withColumn('Title',F.regexp_extract(F.col(\"Name\"),\"([A-Za-z]+)\\.\",1))\n",
        "combined.createOrReplaceTempView('combined')"
      ],
      "execution_count": 272,
      "outputs": []
    },
    {
      "cell_type": "markdown",
      "metadata": {
        "id": "xbZeUWS12r59"
      },
      "source": [
        "**Display \"Title\" column and count \"Title\" column:**"
      ]
    },
    {
      "cell_type": "code",
      "metadata": {
        "colab": {
          "base_uri": "https://localhost:8080/"
        },
        "id": "3WOJWAJszlE6",
        "outputId": "e289b369-822b-4082-87fb-99f1152088bf"
      },
      "source": [
        "combined.show()"
      ],
      "execution_count": 273,
      "outputs": [
        {
          "output_type": "stream",
          "name": "stdout",
          "text": [
            "+-----------+--------+------+--------------------+------+----+-----+-----+----------------+-------+-----+--------+------+\n",
            "|PassengerId|Survived|Pclass|                Name|   Sex| Age|SibSp|Parch|          Ticket|   Fare|Cabin|Embarked| Title|\n",
            "+-----------+--------+------+--------------------+------+----+-----+-----+----------------+-------+-----+--------+------+\n",
            "|          1|       0|     3|Braund, Mr. Owen ...|  male|22.0|    1|    0|       A/5 21171|   7.25| null|       S|    Mr|\n",
            "|          2|       1|     1|Cumings, Mrs. Joh...|female|38.0|    1|    0|        PC 17599|71.2833|  C85|       C|   Mrs|\n",
            "|          3|       1|     3|Heikkinen, Miss. ...|female|26.0|    0|    0|STON/O2. 3101282|  7.925| null|       S|  Miss|\n",
            "|          4|       1|     1|Futrelle, Mrs. Ja...|female|35.0|    1|    0|          113803|   53.1| C123|       S|   Mrs|\n",
            "|          5|       0|     3|Allen, Mr. Willia...|  male|35.0|    0|    0|          373450|   8.05| null|       S|    Mr|\n",
            "|          6|       0|     3|    Moran, Mr. James|  male|null|    0|    0|          330877| 8.4583| null|       Q|    Mr|\n",
            "|          7|       0|     1|McCarthy, Mr. Tim...|  male|54.0|    0|    0|           17463|51.8625|  E46|       S|    Mr|\n",
            "|          8|       0|     3|Palsson, Master. ...|  male| 2.0|    3|    1|          349909| 21.075| null|       S|Master|\n",
            "|          9|       1|     3|Johnson, Mrs. Osc...|female|27.0|    0|    2|          347742|11.1333| null|       S|   Mrs|\n",
            "|         10|       1|     2|Nasser, Mrs. Nich...|female|14.0|    1|    0|          237736|30.0708| null|       C|   Mrs|\n",
            "|         11|       1|     3|Sandstrom, Miss. ...|female| 4.0|    1|    1|         PP 9549|   16.7|   G6|       S|  Miss|\n",
            "|         12|       1|     1|Bonnell, Miss. El...|female|58.0|    0|    0|          113783|  26.55| C103|       S|  Miss|\n",
            "|         13|       0|     3|Saundercock, Mr. ...|  male|20.0|    0|    0|       A/5. 2151|   8.05| null|       S|    Mr|\n",
            "|         14|       0|     3|Andersson, Mr. An...|  male|39.0|    1|    5|          347082| 31.275| null|       S|    Mr|\n",
            "|         15|       0|     3|Vestrom, Miss. Hu...|female|14.0|    0|    0|          350406| 7.8542| null|       S|  Miss|\n",
            "|         16|       1|     2|Hewlett, Mrs. (Ma...|female|55.0|    0|    0|          248706|   16.0| null|       S|   Mrs|\n",
            "|         17|       0|     3|Rice, Master. Eugene|  male| 2.0|    4|    1|          382652| 29.125| null|       Q|Master|\n",
            "|         18|       1|     2|Williams, Mr. Cha...|  male|null|    0|    0|          244373|   13.0| null|       S|    Mr|\n",
            "|         19|       0|     3|Vander Planke, Mr...|female|31.0|    1|    0|          345763|   18.0| null|       S|   Mrs|\n",
            "|         20|       1|     3|Masselmani, Mrs. ...|female|null|    0|    0|            2649|  7.225| null|       C|   Mrs|\n",
            "+-----------+--------+------+--------------------+------+----+-----+-----+----------------+-------+-----+--------+------+\n",
            "only showing top 20 rows\n",
            "\n"
          ]
        }
      ]
    },
    {
      "cell_type": "code",
      "metadata": {
        "id": "hGkFMtlp1FAI",
        "colab": {
          "base_uri": "https://localhost:8080/"
        },
        "outputId": "5e801fae-244c-4e1f-c5c8-5ed4e31011b2"
      },
      "source": [
        "spark.sql(\"SELECT Title FROM combined\").show()"
      ],
      "execution_count": 274,
      "outputs": [
        {
          "output_type": "stream",
          "name": "stdout",
          "text": [
            "+------+\n",
            "| Title|\n",
            "+------+\n",
            "|    Mr|\n",
            "|   Mrs|\n",
            "|  Miss|\n",
            "|   Mrs|\n",
            "|    Mr|\n",
            "|    Mr|\n",
            "|    Mr|\n",
            "|Master|\n",
            "|   Mrs|\n",
            "|   Mrs|\n",
            "|  Miss|\n",
            "|  Miss|\n",
            "|    Mr|\n",
            "|    Mr|\n",
            "|  Miss|\n",
            "|   Mrs|\n",
            "|Master|\n",
            "|    Mr|\n",
            "|   Mrs|\n",
            "|   Mrs|\n",
            "+------+\n",
            "only showing top 20 rows\n",
            "\n"
          ]
        }
      ]
    },
    {
      "cell_type": "code",
      "metadata": {
        "colab": {
          "base_uri": "https://localhost:8080/"
        },
        "id": "frjssF742nas",
        "outputId": "5758af99-9f37-409a-9c2b-162681b66f9a"
      },
      "source": [
        "spark.sql(\"SELECT Title, COUNT(Title) FROM combined GROUP BY Title\").show()"
      ],
      "execution_count": 275,
      "outputs": [
        {
          "output_type": "stream",
          "name": "stdout",
          "text": [
            "+--------+------------+\n",
            "|   Title|count(Title)|\n",
            "+--------+------------+\n",
            "|     Don|           1|\n",
            "|    Miss|         257|\n",
            "|Countess|           2|\n",
            "|     Col|           4|\n",
            "|     Rev|           9|\n",
            "|    Lady|           2|\n",
            "|  Master|          56|\n",
            "|     Mme|           1|\n",
            "|    Capt|           2|\n",
            "|      Mr|         786|\n",
            "|      Dr|          11|\n",
            "|     Mrs|         186|\n",
            "|     Sir|           2|\n",
            "|Jonkheer|           2|\n",
            "|    Mlle|           4|\n",
            "|   Major|           3|\n",
            "|      Ms|           1|\n",
            "+--------+------------+\n",
            "\n"
          ]
        }
      ]
    },
    {
      "cell_type": "markdown",
      "metadata": {
        "id": "nLBQDKYu4JOa"
      },
      "source": [
        "**We can see that Dr, Rev, Major, Col, Mlle, Capt, Don, Jonkheer, Countess, Ms, Sir, Lady, and Mme are really rare titles, so create Dictionary and set the value to \"rare\".**"
      ]
    },
    {
      "cell_type": "code",
      "metadata": {
        "id": "rjnx5l5r2Qaf"
      },
      "source": [
        "titles_map = {\"rare\": [\"Dr\", \"Rev\", \"Major\", \"Col\", \"Mlle\", \"Capt\", \"Don\", \"Jonkheer\", \"Countess\", \"Ms\", \"Sir\", \"Lady\", \"Mme\"]}\n",
        "titles_list = [\"Dr\", \"Rev\", \"Major\", \"Col\", \"Mlle\", \"Capt\", \"Don\", \"Jonkheer\", \"Countess\", \"Ms\", \"Sir\", \"Lady\", \"Mme\"]"
      ],
      "execution_count": 276,
      "outputs": []
    },
    {
      "cell_type": "markdown",
      "metadata": {
        "id": "9wrE95Cv7Oqh"
      },
      "source": [
        "**Run the function:**"
      ]
    },
    {
      "cell_type": "code",
      "metadata": {
        "id": "HdDbWuDl7Pf4"
      },
      "source": [
        "def impute_title(title):\n",
        "    return titles_map[title]# Title_map is your dictionary. please change this name with your dictionary name."
      ],
      "execution_count": 111,
      "outputs": []
    },
    {
      "cell_type": "code",
      "metadata": {
        "id": "rBAiIOn77XFa"
      },
      "source": [
        "@udf(returnType=StringType())\n",
        "def impute_title(title):\n",
        "  if title in titles_list:\n",
        "    title = \"rare\"\n",
        "    return title \n",
        "  else:  \n",
        "    return title"
      ],
      "execution_count": 277,
      "outputs": []
    },
    {
      "cell_type": "markdown",
      "metadata": {
        "id": "f5EQVIhK7a9R"
      },
      "source": [
        "**Apply the function on \"Title\" column using UDF:**"
      ]
    },
    {
      "cell_type": "code",
      "metadata": {
        "colab": {
          "base_uri": "https://localhost:8080/"
        },
        "id": "Uleaz2iy7Vjo",
        "outputId": "d92c44bc-ede7-4be5-d815-9d64affe2533"
      },
      "source": [
        "combined.show(5)"
      ],
      "execution_count": 278,
      "outputs": [
        {
          "output_type": "stream",
          "name": "stdout",
          "text": [
            "+-----------+--------+------+--------------------+------+----+-----+-----+----------------+-------+-----+--------+-----+\n",
            "|PassengerId|Survived|Pclass|                Name|   Sex| Age|SibSp|Parch|          Ticket|   Fare|Cabin|Embarked|Title|\n",
            "+-----------+--------+------+--------------------+------+----+-----+-----+----------------+-------+-----+--------+-----+\n",
            "|          1|       0|     3|Braund, Mr. Owen ...|  male|22.0|    1|    0|       A/5 21171|   7.25| null|       S|   Mr|\n",
            "|          2|       1|     1|Cumings, Mrs. Joh...|female|38.0|    1|    0|        PC 17599|71.2833|  C85|       C|  Mrs|\n",
            "|          3|       1|     3|Heikkinen, Miss. ...|female|26.0|    0|    0|STON/O2. 3101282|  7.925| null|       S| Miss|\n",
            "|          4|       1|     1|Futrelle, Mrs. Ja...|female|35.0|    1|    0|          113803|   53.1| C123|       S|  Mrs|\n",
            "|          5|       0|     3|Allen, Mr. Willia...|  male|35.0|    0|    0|          373450|   8.05| null|       S|   Mr|\n",
            "+-----------+--------+------+--------------------+------+----+-----+-----+----------------+-------+-----+--------+-----+\n",
            "only showing top 5 rows\n",
            "\n"
          ]
        }
      ]
    },
    {
      "cell_type": "code",
      "metadata": {
        "colab": {
          "base_uri": "https://localhost:8080/"
        },
        "id": "wp2GoJYT7Scj",
        "outputId": "3e2bf942-3c84-4aaf-cb07-e3f770c89bd6"
      },
      "source": [
        "new_combined = combined.withColumn(\"NewTitle\", impute_title(F.col(\"Title\")))\n",
        "new_combined.show()"
      ],
      "execution_count": 279,
      "outputs": [
        {
          "output_type": "stream",
          "name": "stdout",
          "text": [
            "+-----------+--------+------+--------------------+------+----+-----+-----+----------------+-------+-----+--------+------+--------+\n",
            "|PassengerId|Survived|Pclass|                Name|   Sex| Age|SibSp|Parch|          Ticket|   Fare|Cabin|Embarked| Title|NewTitle|\n",
            "+-----------+--------+------+--------------------+------+----+-----+-----+----------------+-------+-----+--------+------+--------+\n",
            "|          1|       0|     3|Braund, Mr. Owen ...|  male|22.0|    1|    0|       A/5 21171|   7.25| null|       S|    Mr|      Mr|\n",
            "|          2|       1|     1|Cumings, Mrs. Joh...|female|38.0|    1|    0|        PC 17599|71.2833|  C85|       C|   Mrs|     Mrs|\n",
            "|          3|       1|     3|Heikkinen, Miss. ...|female|26.0|    0|    0|STON/O2. 3101282|  7.925| null|       S|  Miss|    Miss|\n",
            "|          4|       1|     1|Futrelle, Mrs. Ja...|female|35.0|    1|    0|          113803|   53.1| C123|       S|   Mrs|     Mrs|\n",
            "|          5|       0|     3|Allen, Mr. Willia...|  male|35.0|    0|    0|          373450|   8.05| null|       S|    Mr|      Mr|\n",
            "|          6|       0|     3|    Moran, Mr. James|  male|null|    0|    0|          330877| 8.4583| null|       Q|    Mr|      Mr|\n",
            "|          7|       0|     1|McCarthy, Mr. Tim...|  male|54.0|    0|    0|           17463|51.8625|  E46|       S|    Mr|      Mr|\n",
            "|          8|       0|     3|Palsson, Master. ...|  male| 2.0|    3|    1|          349909| 21.075| null|       S|Master|  Master|\n",
            "|          9|       1|     3|Johnson, Mrs. Osc...|female|27.0|    0|    2|          347742|11.1333| null|       S|   Mrs|     Mrs|\n",
            "|         10|       1|     2|Nasser, Mrs. Nich...|female|14.0|    1|    0|          237736|30.0708| null|       C|   Mrs|     Mrs|\n",
            "|         11|       1|     3|Sandstrom, Miss. ...|female| 4.0|    1|    1|         PP 9549|   16.7|   G6|       S|  Miss|    Miss|\n",
            "|         12|       1|     1|Bonnell, Miss. El...|female|58.0|    0|    0|          113783|  26.55| C103|       S|  Miss|    Miss|\n",
            "|         13|       0|     3|Saundercock, Mr. ...|  male|20.0|    0|    0|       A/5. 2151|   8.05| null|       S|    Mr|      Mr|\n",
            "|         14|       0|     3|Andersson, Mr. An...|  male|39.0|    1|    5|          347082| 31.275| null|       S|    Mr|      Mr|\n",
            "|         15|       0|     3|Vestrom, Miss. Hu...|female|14.0|    0|    0|          350406| 7.8542| null|       S|  Miss|    Miss|\n",
            "|         16|       1|     2|Hewlett, Mrs. (Ma...|female|55.0|    0|    0|          248706|   16.0| null|       S|   Mrs|     Mrs|\n",
            "|         17|       0|     3|Rice, Master. Eugene|  male| 2.0|    4|    1|          382652| 29.125| null|       Q|Master|  Master|\n",
            "|         18|       1|     2|Williams, Mr. Cha...|  male|null|    0|    0|          244373|   13.0| null|       S|    Mr|      Mr|\n",
            "|         19|       0|     3|Vander Planke, Mr...|female|31.0|    1|    0|          345763|   18.0| null|       S|   Mrs|     Mrs|\n",
            "|         20|       1|     3|Masselmani, Mrs. ...|female|null|    0|    0|            2649|  7.225| null|       C|   Mrs|     Mrs|\n",
            "+-----------+--------+------+--------------------+------+----+-----+-----+----------------+-------+-----+--------+------+--------+\n",
            "only showing top 20 rows\n",
            "\n"
          ]
        }
      ]
    },
    {
      "cell_type": "code",
      "metadata": {
        "colab": {
          "base_uri": "https://localhost:8080/"
        },
        "id": "13tVvDi0fpGr",
        "outputId": "3aa3332e-7aa8-4ed9-88a6-aef09df123f7"
      },
      "source": [
        "combined.dtypes"
      ],
      "execution_count": 323,
      "outputs": [
        {
          "output_type": "execute_result",
          "data": {
            "text/plain": [
              "[('PassengerId', 'int'),\n",
              " ('Survived', 'int'),\n",
              " ('Pclass', 'int'),\n",
              " ('Name', 'string'),\n",
              " ('Sex', 'string'),\n",
              " ('Age', 'double'),\n",
              " ('SibSp', 'int'),\n",
              " ('Parch', 'int'),\n",
              " ('Ticket', 'string'),\n",
              " ('Fare', 'double'),\n",
              " ('Cabin', 'string'),\n",
              " ('Embarked', 'string'),\n",
              " ('Title', 'string')]"
            ]
          },
          "metadata": {},
          "execution_count": 323
        }
      ]
    },
    {
      "cell_type": "markdown",
      "metadata": {
        "id": "sn8ewllf7kiV"
      },
      "source": [
        "**Display \"Title\" from table and group by \"Title\" column:**"
      ]
    },
    {
      "cell_type": "code",
      "metadata": {
        "id": "21N8sIoL9Ns-"
      },
      "source": [
        "new_combined.createOrReplaceTempView(\"new_combined\")"
      ],
      "execution_count": 280,
      "outputs": []
    },
    {
      "cell_type": "code",
      "metadata": {
        "colab": {
          "base_uri": "https://localhost:8080/"
        },
        "id": "hexoCnxW8MIt",
        "outputId": "f5d8412b-5f72-40a4-87d3-7e288ddc6dc3"
      },
      "source": [
        "spark.sql(\"SELECT NewTitle FROM new_combined\").show()"
      ],
      "execution_count": 281,
      "outputs": [
        {
          "output_type": "stream",
          "name": "stdout",
          "text": [
            "+--------+\n",
            "|NewTitle|\n",
            "+--------+\n",
            "|      Mr|\n",
            "|     Mrs|\n",
            "|    Miss|\n",
            "|     Mrs|\n",
            "|      Mr|\n",
            "|      Mr|\n",
            "|      Mr|\n",
            "|  Master|\n",
            "|     Mrs|\n",
            "|     Mrs|\n",
            "|    Miss|\n",
            "|    Miss|\n",
            "|      Mr|\n",
            "|      Mr|\n",
            "|    Miss|\n",
            "|     Mrs|\n",
            "|  Master|\n",
            "|      Mr|\n",
            "|     Mrs|\n",
            "|     Mrs|\n",
            "+--------+\n",
            "only showing top 20 rows\n",
            "\n"
          ]
        }
      ]
    },
    {
      "cell_type": "code",
      "metadata": {
        "colab": {
          "base_uri": "https://localhost:8080/"
        },
        "id": "a3MEW2HA6c0Q",
        "outputId": "6932f6f9-6ae6-45c4-956d-88affd74713f"
      },
      "source": [
        "spark.sql(\"SELECT NewTitle, COUNT(NewTitle) FROM new_combined GROUP BY NewTitle\").show()"
      ],
      "execution_count": 282,
      "outputs": [
        {
          "output_type": "stream",
          "name": "stdout",
          "text": [
            "+--------+---------------+\n",
            "|NewTitle|count(NewTitle)|\n",
            "+--------+---------------+\n",
            "|    rare|             44|\n",
            "|    Miss|            257|\n",
            "|  Master|             56|\n",
            "|      Mr|            786|\n",
            "|     Mrs|            186|\n",
            "+--------+---------------+\n",
            "\n"
          ]
        }
      ]
    },
    {
      "cell_type": "markdown",
      "metadata": {
        "id": "-H45QNLj9vJp"
      },
      "source": [
        "## **Preprocessing Age**"
      ]
    },
    {
      "cell_type": "markdown",
      "metadata": {
        "id": "XwRAhumK-u__"
      },
      "source": [
        "**Based on the \"age\" column mean, you will fill in the missing age values:**"
      ]
    },
    {
      "cell_type": "code",
      "metadata": {
        "colab": {
          "base_uri": "https://localhost:8080/"
        },
        "id": "FzSemJ8gAFj0",
        "outputId": "f1d0b78a-5636-4ea8-ce09-9c1b80956a38"
      },
      "source": [
        "mean_age = new_combined.select(F.avg(\"Age\"))\n",
        "mean_age.show()"
      ],
      "execution_count": 283,
      "outputs": [
        {
          "output_type": "stream",
          "name": "stdout",
          "text": [
            "+------------------+\n",
            "|          avg(Age)|\n",
            "+------------------+\n",
            "|30.079501879699244|\n",
            "+------------------+\n",
            "\n"
          ]
        }
      ]
    },
    {
      "cell_type": "code",
      "metadata": {
        "id": "eXYSVzvl4z63"
      },
      "source": [
        "from pyspark.sql.functions import avg\n",
        "mean_age = new_combined.select(avg('Age')).collect()[0][0]"
      ],
      "execution_count": 284,
      "outputs": []
    },
    {
      "cell_type": "markdown",
      "metadata": {
        "id": "JLPivde8_GI-"
      },
      "source": [
        "**Fill missing with \"age\" mean:**"
      ]
    },
    {
      "cell_type": "code",
      "metadata": {
        "id": "lBgW8aFD90PA"
      },
      "source": [
        "new_combined = new_combined.na.fill(value=mean_age,subset=[\"Age\"])"
      ],
      "execution_count": 285,
      "outputs": []
    },
    {
      "cell_type": "markdown",
      "metadata": {
        "id": "jGsnUz-m_P95"
      },
      "source": [
        "## **Preprocessing Embarked**"
      ]
    },
    {
      "cell_type": "markdown",
      "metadata": {
        "id": "iHbbamcXMSYP"
      },
      "source": [
        "**Select \"Embarked\" column, count them, order by count Desc, and save in grouped_Embarked variable:**\n",
        "\n",
        "\n"
      ]
    },
    {
      "cell_type": "code",
      "metadata": {
        "id": "v-lRu5vc_FW7"
      },
      "source": [
        "grouped_Embarked = spark.sql(\"\"\"SELECT Embarked,\n",
        "                     COUNT(Embarked) AS count_embarked \n",
        "                     FROM new_combined \n",
        "                     GROUP BY (Embarked)\n",
        "                     ORDER BY count_embarked DESC \"\"\")\n"
      ],
      "execution_count": 286,
      "outputs": []
    },
    {
      "cell_type": "markdown",
      "metadata": {
        "id": "E1qf5u2IOQrx"
      },
      "source": [
        "**Show \"groupped_Embarked\" your variable:**"
      ]
    },
    {
      "cell_type": "code",
      "metadata": {
        "id": "jSFNDTNg_erb",
        "colab": {
          "base_uri": "https://localhost:8080/"
        },
        "outputId": "1ae4abdf-65ca-4bc6-a68d-c24efca4db78"
      },
      "source": [
        "grouped_Embarked.show()"
      ],
      "execution_count": 287,
      "outputs": [
        {
          "output_type": "stream",
          "name": "stdout",
          "text": [
            "+--------+--------------+\n",
            "|Embarked|count_embarked|\n",
            "+--------+--------------+\n",
            "|       S|           962|\n",
            "|       C|           253|\n",
            "|       Q|           111|\n",
            "|    null|             0|\n",
            "+--------+--------------+\n",
            "\n"
          ]
        }
      ]
    },
    {
      "cell_type": "markdown",
      "metadata": {
        "id": "mzQWYgKBMrbp"
      },
      "source": [
        "**Get max of groupped_Embarked:** "
      ]
    },
    {
      "cell_type": "code",
      "metadata": {
        "colab": {
          "base_uri": "https://localhost:8080/"
        },
        "id": "TbJFZr6DLxXf",
        "outputId": "eeaf5e87-60ba-4e05-ca06-f053a2a0a13c"
      },
      "source": [
        "max_embarked = grouped_Embarked.select(max('count_embarked')).collect()[0][0]\n",
        "max_embarked"
      ],
      "execution_count": 288,
      "outputs": [
        {
          "output_type": "execute_result",
          "data": {
            "text/plain": [
              "962"
            ]
          },
          "metadata": {},
          "execution_count": 288
        }
      ]
    },
    {
      "cell_type": "code",
      "metadata": {
        "id": "ZLYj4F7E_iqb",
        "colab": {
          "base_uri": "https://localhost:8080/"
        },
        "outputId": "245552a0-4451-479f-b20b-356b8c3b686a"
      },
      "source": [
        "grouped_Embarked.select(F.max(\"count_embarked\")).show()"
      ],
      "execution_count": 289,
      "outputs": [
        {
          "output_type": "stream",
          "name": "stdout",
          "text": [
            "+-------------------+\n",
            "|max(count_embarked)|\n",
            "+-------------------+\n",
            "|                962|\n",
            "+-------------------+\n",
            "\n"
          ]
        }
      ]
    },
    {
      "cell_type": "markdown",
      "metadata": {
        "id": "L8vhoEs8N2w_"
      },
      "source": [
        "**Fill missing values with max 'S' of grouped_Embarked:**"
      ]
    },
    {
      "cell_type": "code",
      "metadata": {
        "colab": {
          "base_uri": "https://localhost:8080/"
        },
        "id": "qLVrGhd1NUJl",
        "outputId": "5939a392-571a-4836-ad5d-7b447a530816"
      },
      "source": [
        "type(new_combined)"
      ],
      "execution_count": 290,
      "outputs": [
        {
          "output_type": "execute_result",
          "data": {
            "text/plain": [
              "pyspark.sql.dataframe.DataFrame"
            ]
          },
          "metadata": {},
          "execution_count": 290
        }
      ]
    },
    {
      "cell_type": "code",
      "metadata": {
        "id": "LdzQCRud_mAa"
      },
      "source": [
        "new_combined = new_combined.fillna(value=\"S\",subset=[\"Embarked\"])"
      ],
      "execution_count": 291,
      "outputs": []
    },
    {
      "cell_type": "code",
      "metadata": {
        "colab": {
          "base_uri": "https://localhost:8080/"
        },
        "id": "IonJZAaFMf3j",
        "outputId": "dd529793-d5d0-4198-b65a-52890ab786e3"
      },
      "source": [
        "new_combined.select([count(when(isnan(c) | col(c).isNull(), c)).alias(c) for c in new_combined.columns]).show()"
      ],
      "execution_count": 292,
      "outputs": [
        {
          "output_type": "stream",
          "name": "stdout",
          "text": [
            "+-----------+--------+------+----+---+---+-----+-----+------+----+-----+--------+-----+--------+\n",
            "|PassengerId|Survived|Pclass|Name|Sex|Age|SibSp|Parch|Ticket|Fare|Cabin|Embarked|Title|NewTitle|\n",
            "+-----------+--------+------+----+---+---+-----+-----+------+----+-----+--------+-----+--------+\n",
            "|          0|       0|     0|   0|  0|  0|    0|    0|     0|   0| 1021|       0|    0|       0|\n",
            "+-----------+--------+------+----+---+---+-----+-----+------+----+-----+--------+-----+--------+\n",
            "\n"
          ]
        }
      ]
    },
    {
      "cell_type": "markdown",
      "metadata": {
        "id": "TEcdV5Vb_qR_"
      },
      "source": [
        "## **Preprocessing Cabin**"
      ]
    },
    {
      "cell_type": "markdown",
      "metadata": {
        "id": "_BQzPs7tqhpA"
      },
      "source": [
        "**Replace \"cabin\" column with first char from the string:**\n",
        "\n"
      ]
    },
    {
      "cell_type": "code",
      "metadata": {
        "colab": {
          "base_uri": "https://localhost:8080/"
        },
        "id": "wDsXnUQHOOo7",
        "outputId": "46400568-d3c8-4689-9129-3639ede9cecc"
      },
      "source": [
        "new_combined.show(5)"
      ],
      "execution_count": 293,
      "outputs": [
        {
          "output_type": "stream",
          "name": "stdout",
          "text": [
            "+-----------+--------+------+--------------------+------+----+-----+-----+----------------+-------+-----+--------+-----+--------+\n",
            "|PassengerId|Survived|Pclass|                Name|   Sex| Age|SibSp|Parch|          Ticket|   Fare|Cabin|Embarked|Title|NewTitle|\n",
            "+-----------+--------+------+--------------------+------+----+-----+-----+----------------+-------+-----+--------+-----+--------+\n",
            "|          1|       0|     3|Braund, Mr. Owen ...|  male|22.0|    1|    0|       A/5 21171|   7.25| null|       S|   Mr|      Mr|\n",
            "|          2|       1|     1|Cumings, Mrs. Joh...|female|38.0|    1|    0|        PC 17599|71.2833|  C85|       C|  Mrs|     Mrs|\n",
            "|          3|       1|     3|Heikkinen, Miss. ...|female|26.0|    0|    0|STON/O2. 3101282|  7.925| null|       S| Miss|    Miss|\n",
            "|          4|       1|     1|Futrelle, Mrs. Ja...|female|35.0|    1|    0|          113803|   53.1| C123|       S|  Mrs|     Mrs|\n",
            "|          5|       0|     3|Allen, Mr. Willia...|  male|35.0|    0|    0|          373450|   8.05| null|       S|   Mr|      Mr|\n",
            "+-----------+--------+------+--------------------+------+----+-----+-----+----------------+-------+-----+--------+-----+--------+\n",
            "only showing top 5 rows\n",
            "\n"
          ]
        }
      ]
    },
    {
      "cell_type": "code",
      "metadata": {
        "id": "4b6L5pK0_nQz"
      },
      "source": [
        "new_combined2 = new_combined.withColumn('Cabin', substring('Cabin', 1, 1))"
      ],
      "execution_count": 294,
      "outputs": []
    },
    {
      "cell_type": "markdown",
      "metadata": {
        "id": "6H8XshnYj4k2"
      },
      "source": [
        "**Show the result:**"
      ]
    },
    {
      "cell_type": "code",
      "metadata": {
        "id": "gJUQwnG1Oj2U",
        "colab": {
          "base_uri": "https://localhost:8080/"
        },
        "outputId": "793ae635-ed80-41e0-b1b2-11429edd36a3"
      },
      "source": [
        "new_combined2.show()"
      ],
      "execution_count": 295,
      "outputs": [
        {
          "output_type": "stream",
          "name": "stdout",
          "text": [
            "+-----------+--------+------+--------------------+------+------------------+-----+-----+----------------+-------+-----+--------+------+--------+\n",
            "|PassengerId|Survived|Pclass|                Name|   Sex|               Age|SibSp|Parch|          Ticket|   Fare|Cabin|Embarked| Title|NewTitle|\n",
            "+-----------+--------+------+--------------------+------+------------------+-----+-----+----------------+-------+-----+--------+------+--------+\n",
            "|          1|       0|     3|Braund, Mr. Owen ...|  male|              22.0|    1|    0|       A/5 21171|   7.25| null|       S|    Mr|      Mr|\n",
            "|          2|       1|     1|Cumings, Mrs. Joh...|female|              38.0|    1|    0|        PC 17599|71.2833|    C|       C|   Mrs|     Mrs|\n",
            "|          3|       1|     3|Heikkinen, Miss. ...|female|              26.0|    0|    0|STON/O2. 3101282|  7.925| null|       S|  Miss|    Miss|\n",
            "|          4|       1|     1|Futrelle, Mrs. Ja...|female|              35.0|    1|    0|          113803|   53.1|    C|       S|   Mrs|     Mrs|\n",
            "|          5|       0|     3|Allen, Mr. Willia...|  male|              35.0|    0|    0|          373450|   8.05| null|       S|    Mr|      Mr|\n",
            "|          6|       0|     3|    Moran, Mr. James|  male|30.079501879699244|    0|    0|          330877| 8.4583| null|       Q|    Mr|      Mr|\n",
            "|          7|       0|     1|McCarthy, Mr. Tim...|  male|              54.0|    0|    0|           17463|51.8625|    E|       S|    Mr|      Mr|\n",
            "|          8|       0|     3|Palsson, Master. ...|  male|               2.0|    3|    1|          349909| 21.075| null|       S|Master|  Master|\n",
            "|          9|       1|     3|Johnson, Mrs. Osc...|female|              27.0|    0|    2|          347742|11.1333| null|       S|   Mrs|     Mrs|\n",
            "|         10|       1|     2|Nasser, Mrs. Nich...|female|              14.0|    1|    0|          237736|30.0708| null|       C|   Mrs|     Mrs|\n",
            "|         11|       1|     3|Sandstrom, Miss. ...|female|               4.0|    1|    1|         PP 9549|   16.7|    G|       S|  Miss|    Miss|\n",
            "|         12|       1|     1|Bonnell, Miss. El...|female|              58.0|    0|    0|          113783|  26.55|    C|       S|  Miss|    Miss|\n",
            "|         13|       0|     3|Saundercock, Mr. ...|  male|              20.0|    0|    0|       A/5. 2151|   8.05| null|       S|    Mr|      Mr|\n",
            "|         14|       0|     3|Andersson, Mr. An...|  male|              39.0|    1|    5|          347082| 31.275| null|       S|    Mr|      Mr|\n",
            "|         15|       0|     3|Vestrom, Miss. Hu...|female|              14.0|    0|    0|          350406| 7.8542| null|       S|  Miss|    Miss|\n",
            "|         16|       1|     2|Hewlett, Mrs. (Ma...|female|              55.0|    0|    0|          248706|   16.0| null|       S|   Mrs|     Mrs|\n",
            "|         17|       0|     3|Rice, Master. Eugene|  male|               2.0|    4|    1|          382652| 29.125| null|       Q|Master|  Master|\n",
            "|         18|       1|     2|Williams, Mr. Cha...|  male|30.079501879699244|    0|    0|          244373|   13.0| null|       S|    Mr|      Mr|\n",
            "|         19|       0|     3|Vander Planke, Mr...|female|              31.0|    1|    0|          345763|   18.0| null|       S|   Mrs|     Mrs|\n",
            "|         20|       1|     3|Masselmani, Mrs. ...|female|30.079501879699244|    0|    0|            2649|  7.225| null|       C|   Mrs|     Mrs|\n",
            "+-----------+--------+------+--------------------+------+------------------+-----+-----+----------------+-------+-----+--------+------+--------+\n",
            "only showing top 20 rows\n",
            "\n"
          ]
        }
      ]
    },
    {
      "cell_type": "markdown",
      "metadata": {
        "id": "yzSDsWsUj9Im"
      },
      "source": [
        "**Create the temporary view:**"
      ]
    },
    {
      "cell_type": "code",
      "metadata": {
        "id": "MR7CXTY7_tMJ"
      },
      "source": [
        "new_combined2.createOrReplaceTempView(\"new_combined2\")"
      ],
      "execution_count": 296,
      "outputs": []
    },
    {
      "cell_type": "markdown",
      "metadata": {
        "id": "Gv7lfQFkrLlN"
      },
      "source": [
        "**Select \"Cabin\" column, count \"Cabin\" column, Group by \"Cabin\" column, Order By count DESC**  "
      ]
    },
    {
      "cell_type": "code",
      "metadata": {
        "id": "A0tZG_mvrKXv",
        "colab": {
          "base_uri": "https://localhost:8080/"
        },
        "outputId": "fbc5b0bb-97d6-4853-abe5-95b82c51d5ba"
      },
      "source": [
        "spark.sql(\"\"\"SELECT Cabin, COUNT(Cabin)\n",
        "              FROM new_combined2\n",
        "              GROUP BY(Cabin)\n",
        "              ORDER BY COUNT(Cabin)\n",
        "              DESC\"\"\").show()"
      ],
      "execution_count": 298,
      "outputs": [
        {
          "output_type": "stream",
          "name": "stdout",
          "text": [
            "+-----+------------+\n",
            "|Cabin|count(Cabin)|\n",
            "+-----+------------+\n",
            "|    C|          82|\n",
            "|    B|          77|\n",
            "|    D|          52|\n",
            "|    E|          51|\n",
            "|    A|          23|\n",
            "|    F|          18|\n",
            "|    G|           4|\n",
            "|    T|           1|\n",
            "| null|           0|\n",
            "+-----+------------+\n",
            "\n"
          ]
        }
      ]
    },
    {
      "cell_type": "markdown",
      "metadata": {
        "id": "1GR6j0LOsB4y"
      },
      "source": [
        "**Fill missing values with \"U\":**"
      ]
    },
    {
      "cell_type": "code",
      "metadata": {
        "id": "mwq5CHEz_up_"
      },
      "source": [
        "new_combined2 = new_combined2.fillna(value=\"U\",subset=[\"Cabin\"])"
      ],
      "execution_count": 299,
      "outputs": []
    },
    {
      "cell_type": "code",
      "metadata": {
        "colab": {
          "base_uri": "https://localhost:8080/"
        },
        "id": "D9Dszdh_dX5i",
        "outputId": "71ff220d-89d3-4c43-d286-47ef769e7c47"
      },
      "source": [
        "new_combined2.dtypes"
      ],
      "execution_count": 321,
      "outputs": [
        {
          "output_type": "execute_result",
          "data": {
            "text/plain": [
              "[('PassengerId', 'int'),\n",
              " ('Survived', 'int'),\n",
              " ('Pclass', 'int'),\n",
              " ('Name', 'string'),\n",
              " ('Sex', 'string'),\n",
              " ('Age', 'double'),\n",
              " ('SibSp', 'int'),\n",
              " ('Parch', 'int'),\n",
              " ('Ticket', 'string'),\n",
              " ('Fare', 'double'),\n",
              " ('Cabin', 'string'),\n",
              " ('Embarked', 'string'),\n",
              " ('Title', 'string'),\n",
              " ('NewTitle', 'string')]"
            ]
          },
          "metadata": {},
          "execution_count": 321
        }
      ]
    },
    {
      "cell_type": "markdown",
      "metadata": {
        "id": "RRnhA_5-0Hi4"
      },
      "source": [
        "**StringIndexer: A label indexer that maps a string column of labels to an ML column of label indices. If the input column is numeric, we cast it to string and index the string values. The indices are in [0, numLabels). By default, this is ordered by label frequencies so the most frequent label gets index 0. The ordering behavior is controlled by setting stringOrderType. Its default value is ‘frequencyDesc’.**"
      ]
    },
    {
      "cell_type": "markdown",
      "metadata": {
        "id": "1RIKlOX71GQ-"
      },
      "source": [
        "**StringIndexer(inputCol=None, outputCol=None)**"
      ]
    },
    {
      "cell_type": "code",
      "metadata": {
        "id": "odhuI2EHKuCm"
      },
      "source": [
        ""
      ],
      "execution_count": null,
      "outputs": []
    },
    {
      "cell_type": "markdown",
      "metadata": {
        "id": "1DECL9yCK3JZ"
      },
      "source": [
        "**OneHotEncoder(inputCols=None, outputCols=None)**\n",
        "\n",
        "A one-hot encoder that maps a column of category indices to a column of binary vectors, with at most a single one-value per row that indicates the input category index. For example with 5 categories, an input value of 2.0 would map to an output vector of [0.0, 0.0, 1.0, 0.0]. The last category is not included by default (configurable via dropLast), because it makes the vector entries sum up to one, and hence linearly dependent. So an input value of 4.0 maps to [0.0, 0.0, 0.0, 0.0]."
      ]
    },
    {
      "cell_type": "code",
      "metadata": {
        "id": "tiAjDEy1LBhz"
      },
      "source": [
        ""
      ],
      "execution_count": null,
      "outputs": []
    },
    {
      "cell_type": "markdown",
      "metadata": {
        "id": "1FsiLsd9452v"
      },
      "source": [
        "**VectorAssembler: VectorAssembler(*, inputCols=None, outputCol=None). A feature transformer that merges multiple columns into a vector column.**\n",
        "\n"
      ]
    },
    {
      "cell_type": "code",
      "metadata": {
        "id": "BuytKk0hLE6p"
      },
      "source": [
        ""
      ],
      "execution_count": null,
      "outputs": []
    },
    {
      "cell_type": "markdown",
      "metadata": {
        "id": "dU8DeZfh7JIo"
      },
      "source": [
        "**Use randomSplit function and split data to x_train, and X_test with 80% and 20% Consecutive**"
      ]
    },
    {
      "cell_type": "code",
      "metadata": {
        "id": "8C11xf1iAzKp"
      },
      "source": [
        "trainDF, testDF = new_combined2.randomSplit([.8,.2], seed=42)"
      ],
      "execution_count": 300,
      "outputs": []
    },
    {
      "cell_type": "code",
      "metadata": {
        "colab": {
          "base_uri": "https://localhost:8080/"
        },
        "id": "EDbLLVvyS-WS",
        "outputId": "054d11b1-801c-4e6f-de7e-cfed182b9b32"
      },
      "source": [
        "trainDF.dtypes"
      ],
      "execution_count": 301,
      "outputs": [
        {
          "output_type": "execute_result",
          "data": {
            "text/plain": [
              "[('PassengerId', 'int'),\n",
              " ('Survived', 'int'),\n",
              " ('Pclass', 'int'),\n",
              " ('Name', 'string'),\n",
              " ('Sex', 'string'),\n",
              " ('Age', 'double'),\n",
              " ('SibSp', 'int'),\n",
              " ('Parch', 'int'),\n",
              " ('Ticket', 'string'),\n",
              " ('Fare', 'double'),\n",
              " ('Cabin', 'string'),\n",
              " ('Embarked', 'string'),\n",
              " ('Title', 'string'),\n",
              " ('NewTitle', 'string')]"
            ]
          },
          "metadata": {},
          "execution_count": 301
        }
      ]
    },
    {
      "cell_type": "code",
      "metadata": {
        "colab": {
          "base_uri": "https://localhost:8080/"
        },
        "id": "k8F7bHtdTMps",
        "outputId": "f06216de-0e6e-4ac3-dc6d-a4c1228499f7"
      },
      "source": [
        "categoricalCols = ['Sex','Cabin','Embarked','NewTitle']\n",
        "indexOutputCols = [x + \"_Index\" for x in categoricalCols]\n",
        "indexOutputCols"
      ],
      "execution_count": 302,
      "outputs": [
        {
          "output_type": "execute_result",
          "data": {
            "text/plain": [
              "['Sex_Index', 'Cabin_Index', 'Embarked_Index', 'NewTitle_Index']"
            ]
          },
          "metadata": {},
          "execution_count": 302
        }
      ]
    },
    {
      "cell_type": "code",
      "metadata": {
        "colab": {
          "base_uri": "https://localhost:8080/"
        },
        "id": "XKeune55UCNv",
        "outputId": "d53df6fa-74f1-446b-be68-63adefc18194"
      },
      "source": [
        "oheOutputCols = [x + \"_OHE\" for x in categoricalCols]\n",
        "oheOutputCols"
      ],
      "execution_count": 303,
      "outputs": [
        {
          "output_type": "execute_result",
          "data": {
            "text/plain": [
              "['Sex_OHE', 'Cabin_OHE', 'Embarked_OHE', 'NewTitle_OHE']"
            ]
          },
          "metadata": {},
          "execution_count": 303
        }
      ]
    },
    {
      "cell_type": "code",
      "metadata": {
        "id": "Uia0kUe9Ukw6"
      },
      "source": [
        "from pyspark.ml.feature import StringIndexer, OneHotEncoder, VectorAssembler\n",
        "\n",
        "stringIndexer = StringIndexer(inputCols=categoricalCols,\n",
        "                             outputCols=indexOutputCols,\n",
        "                             handleInvalid='skip')\n",
        "oheEncoder = OneHotEncoder(inputCols=indexOutputCols,\n",
        "                          outputCols=oheOutputCols)"
      ],
      "execution_count": 306,
      "outputs": []
    },
    {
      "cell_type": "code",
      "metadata": {
        "id": "4lbhEPAkUIND"
      },
      "source": [
        "numericCols = ['Pclass','Parch','SibSp','Age']"
      ],
      "execution_count": 308,
      "outputs": []
    },
    {
      "cell_type": "code",
      "metadata": {
        "colab": {
          "base_uri": "https://localhost:8080/"
        },
        "id": "NbfHFLQCUcud",
        "outputId": "c52b90ca-19ae-4d01-9449-0628fdd15702"
      },
      "source": [
        "assemblerInputs = oheOutputCols + numericCols\n",
        "assemblerInputs"
      ],
      "execution_count": 309,
      "outputs": [
        {
          "output_type": "execute_result",
          "data": {
            "text/plain": [
              "['Sex_OHE',\n",
              " 'Cabin_OHE',\n",
              " 'Embarked_OHE',\n",
              " 'NewTitle_OHE',\n",
              " 'Pclass',\n",
              " 'Parch',\n",
              " 'SibSp',\n",
              " 'Age']"
            ]
          },
          "metadata": {},
          "execution_count": 309
        }
      ]
    },
    {
      "cell_type": "code",
      "metadata": {
        "id": "ht5nckk4UonN"
      },
      "source": [
        "vecAssembler = VectorAssembler(inputCols=assemblerInputs,outputCol='features')"
      ],
      "execution_count": 307,
      "outputs": []
    },
    {
      "cell_type": "code",
      "metadata": {
        "colab": {
          "base_uri": "https://localhost:8080/"
        },
        "id": "BGLNa70BfeC0",
        "outputId": "7bd38674-5577-4258-a883-4b62a195834e"
      },
      "source": [
        "train_df.dtypes"
      ],
      "execution_count": 322,
      "outputs": [
        {
          "output_type": "execute_result",
          "data": {
            "text/plain": [
              "[('PassengerId', 'int'),\n",
              " ('Survived', 'int'),\n",
              " ('Pclass', 'int'),\n",
              " ('Name', 'string'),\n",
              " ('Sex', 'string'),\n",
              " ('Age', 'double'),\n",
              " ('SibSp', 'int'),\n",
              " ('Parch', 'int'),\n",
              " ('Ticket', 'string'),\n",
              " ('Fare', 'double'),\n",
              " ('Cabin', 'string'),\n",
              " ('Embarked', 'string')]"
            ]
          },
          "metadata": {},
          "execution_count": 322
        }
      ]
    },
    {
      "cell_type": "markdown",
      "metadata": {
        "id": "c0c_Hf_b0R12"
      },
      "source": [
        "**Pipeline: ML Pipelines provide a uniform set of high-level APIs built on top of DataFrames that help users create and tune practical machine learning pipelines.**"
      ]
    },
    {
      "cell_type": "markdown",
      "metadata": {
        "id": "IJQvmFai72O7"
      },
      "source": [
        "**Build RandomForestClassifier model and use pipeline to fit and transform then display \"prediction, Survived, features\" columns**"
      ]
    },
    {
      "cell_type": "code",
      "metadata": {
        "id": "YnpmZqlTLPGq"
      },
      "source": [
        "from pyspark.ml.classification import RandomForestClassifier\n",
        "RC = RandomForestClassifier(labelCol='Survived',featuresCol='features')"
      ],
      "execution_count": 310,
      "outputs": []
    },
    {
      "cell_type": "code",
      "metadata": {
        "id": "76fUp2-4XHb9"
      },
      "source": [
        "from pyspark.ml import Pipeline\n",
        "pipeline =Pipeline(stages = [stringIndexer,oheEncoder,vecAssembler,RC])"
      ],
      "execution_count": 311,
      "outputs": []
    },
    {
      "cell_type": "code",
      "metadata": {
        "id": "bcEXYbxUXN9Q"
      },
      "source": [
        "pipelineModel = pipeline.fit(trainDF)"
      ],
      "execution_count": 312,
      "outputs": []
    },
    {
      "cell_type": "code",
      "metadata": {
        "id": "K4DecjFeXTq2"
      },
      "source": [
        "predDF = pipelineModel.transform(testDF)"
      ],
      "execution_count": 313,
      "outputs": []
    },
    {
      "cell_type": "markdown",
      "metadata": {
        "id": "FSXEI8-r8bKY"
      },
      "source": [
        "**Use MulticlassClassificationEvaluator and set the \"labelCol\" to \"Survived\",  \"predictionCol\" to \"prediction\", \"metricName\" to \"accuracy\"** "
      ]
    },
    {
      "cell_type": "code",
      "metadata": {
        "colab": {
          "base_uri": "https://localhost:8080/"
        },
        "id": "9ZSL3m7UXYLn",
        "outputId": "a4b74979-14f8-4c0b-ccf8-e8899400d46e"
      },
      "source": [
        "from pyspark.ml.evaluation import BinaryClassificationEvaluator\n",
        "\n",
        "accuracy = BinaryClassificationEvaluator(rawPredictionCol='prediction',\n",
        "                                         labelCol='Survived',\n",
        "                                         metricName='areaUnderROC').evaluate(predDF)\n",
        "print(f\"Accuracy is {accuracy}\")"
      ],
      "execution_count": 317,
      "outputs": [
        {
          "output_type": "stream",
          "name": "stdout",
          "text": [
            "Accuracy is 1.0\n"
          ]
        }
      ]
    },
    {
      "cell_type": "code",
      "metadata": {
        "id": "Rl0UAKCaBDO-",
        "colab": {
          "base_uri": "https://localhost:8080/"
        },
        "outputId": "defa5bd6-d753-459c-c3c4-f01438a70b4c"
      },
      "source": [
        "from pyspark.ml.evaluation import MulticlassClassificationEvaluator\n",
        "\n",
        "accuracy = MulticlassClassificationEvaluator(predicti onCol='prediction',\n",
        "                                         labelCol='Survived',\n",
        "                                         metricName='accuracy').evaluate(predDF)\n",
        "print(f\"Accuracy is {accuracy}\")"
      ],
      "execution_count": 320,
      "outputs": [
        {
          "output_type": "stream",
          "name": "stderr",
          "text": [
            "Exception ignored in: <function JavaWrapper.__del__ at 0x7f6b1e0d7f80>\n",
            "Traceback (most recent call last):\n",
            "  File \"/usr/local/lib/python3.7/dist-packages/pyspark/ml/wrapper.py\", line 39, in __del__\n",
            "    if SparkContext._active_spark_context and self._java_obj is not None:\n",
            "AttributeError: 'MulticlassClassificationEvaluator' object has no attribute '_java_obj'\n"
          ]
        },
        {
          "output_type": "stream",
          "name": "stdout",
          "text": [
            "Accuracy is 1.0\n"
          ]
        }
      ]
    },
    {
      "cell_type": "markdown",
      "metadata": {
        "id": "sO6_R1zJ9R1R"
      },
      "source": [
        "**When you are finished send the project via Google classroom**\n",
        "**Please let me know if you have any questions.**\n",
        "* nabieh.mostafa@yahoo.com\n",
        "* +201015197566 (Whatsapp)\n",
        "\n",
        "**Don't Hate me, I push you to learn**\n",
        "\n",
        "**I will help you to become an awesome data engineer.**\n",
        "\n",
        "**Why did I say that \"Data Engineer\"?**\n",
        "\n",
        "**Tricky question, but an optional question, if you would like to know the answer, ask me.**\n"
      ]
    }
  ]
}