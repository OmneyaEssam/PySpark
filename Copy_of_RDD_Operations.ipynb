{
  "nbformat": 4,
  "nbformat_minor": 5,
  "metadata": {
    "kernelspec": {
      "display_name": "Python 3",
      "language": "python",
      "name": "python3"
    },
    "language_info": {
      "codemirror_mode": {
        "name": "ipython",
        "version": 3
      },
      "file_extension": ".py",
      "mimetype": "text/x-python",
      "name": "python",
      "nbconvert_exporter": "python",
      "pygments_lexer": "ipython3",
      "version": "3.8.8"
    },
    "colab": {
      "name": "Copy of RDD_Operations.ipynb",
      "provenance": [],
      "collapsed_sections": []
    }
  },
  "cells": [
    {
      "cell_type": "markdown",
      "metadata": {
        "id": "2568221b"
      },
      "source": [
        "### Import the required libraries then Create SparkContext"
      ],
      "id": "2568221b"
    },
    {
      "cell_type": "code",
      "metadata": {
        "id": "JwWs10eMNzhl",
        "colab": {
          "base_uri": "https://localhost:8080/"
        },
        "outputId": "09378b16-8862-4fd2-bd0f-be0aeed06276"
      },
      "source": [
        "!pip install pyspark"
      ],
      "id": "JwWs10eMNzhl",
      "execution_count": null,
      "outputs": [
        {
          "output_type": "stream",
          "name": "stdout",
          "text": [
            "Collecting pyspark\n",
            "  Downloading pyspark-3.1.2.tar.gz (212.4 MB)\n",
            "\u001b[K     |████████████████████████████████| 212.4 MB 64 kB/s \n",
            "\u001b[?25hCollecting py4j==0.10.9\n",
            "  Downloading py4j-0.10.9-py2.py3-none-any.whl (198 kB)\n",
            "\u001b[K     |████████████████████████████████| 198 kB 66.0 MB/s \n",
            "\u001b[?25hBuilding wheels for collected packages: pyspark\n",
            "  Building wheel for pyspark (setup.py) ... \u001b[?25l\u001b[?25hdone\n",
            "  Created wheel for pyspark: filename=pyspark-3.1.2-py2.py3-none-any.whl size=212880768 sha256=02d74c7acd672b9e09c2313b200f040564b5d12d6f80041dd292e2680b315637\n",
            "  Stored in directory: /root/.cache/pip/wheels/a5/0a/c1/9561f6fecb759579a7d863dcd846daaa95f598744e71b02c77\n",
            "Successfully built pyspark\n",
            "Installing collected packages: py4j, pyspark\n",
            "Successfully installed py4j-0.10.9 pyspark-3.1.2\n"
          ]
        }
      ]
    },
    {
      "cell_type": "code",
      "metadata": {
        "id": "65e6978c"
      },
      "source": [
        "import pyspark\n",
        "from pyspark import SparkContext\n",
        "sc = SparkContext()"
      ],
      "id": "65e6978c",
      "execution_count": null,
      "outputs": []
    },
    {
      "cell_type": "markdown",
      "metadata": {
        "id": "e9a7d9c6"
      },
      "source": [
        "### Create and display an RDD from the following list"
      ],
      "id": "e9a7d9c6"
    },
    {
      "cell_type": "code",
      "metadata": {
        "id": "409084ef"
      },
      "source": [
        "list = [('JK', 22), ('V', 24), ('Jimin',24), ('RM', 25), ('J-Hope', 25), ('Suga', 26), ('Jin', 27)]"
      ],
      "id": "409084ef",
      "execution_count": null,
      "outputs": []
    },
    {
      "cell_type": "code",
      "metadata": {
        "scrolled": true,
        "id": "d5ba0725",
        "colab": {
          "base_uri": "https://localhost:8080/"
        },
        "outputId": "2d51a3b3-c83e-428d-c186-af77f8877484"
      },
      "source": [
        "rdd = sc.parallelize(list)\n",
        "rdd.collect()"
      ],
      "id": "d5ba0725",
      "execution_count": null,
      "outputs": [
        {
          "output_type": "execute_result",
          "data": {
            "text/plain": [
              "[('JK', 22),\n",
              " ('V', 24),\n",
              " ('Jimin', 24),\n",
              " ('RM', 25),\n",
              " ('J-Hope', 25),\n",
              " ('Suga', 26),\n",
              " ('Jin', 27)]"
            ]
          },
          "metadata": {},
          "execution_count": 11
        }
      ]
    },
    {
      "cell_type": "markdown",
      "metadata": {
        "id": "feedfb38"
      },
      "source": [
        "### Read sample1.txt file into RDD and displaying the first 4 elements"
      ],
      "id": "feedfb38"
    },
    {
      "cell_type": "code",
      "metadata": {
        "id": "14f5c55a",
        "colab": {
          "base_uri": "https://localhost:8080/"
        },
        "outputId": "e62408bf-f07e-47e4-aca2-617737243ccd"
      },
      "source": [
        "txtfile = sc.textFile('sample1.txt')\n",
        "txtfile"
      ],
      "id": "14f5c55a",
      "execution_count": null,
      "outputs": [
        {
          "output_type": "execute_result",
          "data": {
            "text/plain": [
              "sample1.txt MapPartitionsRDD[19] at textFile at NativeMethodAccessorImpl.java:0"
            ]
          },
          "metadata": {},
          "execution_count": 31
        }
      ]
    },
    {
      "cell_type": "code",
      "metadata": {
        "id": "VHUzGkxKP2uZ",
        "colab": {
          "base_uri": "https://localhost:8080/"
        },
        "outputId": "b5fddbd6-7ee1-4920-8e63-70f23736f0fa"
      },
      "source": [
        "txtfile.take(4)"
      ],
      "id": "VHUzGkxKP2uZ",
      "execution_count": null,
      "outputs": [
        {
          "output_type": "execute_result",
          "data": {
            "text/plain": [
              "['Utilitatis causa amicitia est quaesita.',\n",
              " 'Lorem ipsum dolor sit amet, consectetur adipiscing elit. ',\n",
              " 'Collatio igitur ista te nihil iuvat. Honesta oratio, Socratica, Platonis etiam. Primum in nostrane potestate est, quid meminerimus? ',\n",
              " 'Duo Reges: constructio interrete. ']"
            ]
          },
          "metadata": {},
          "execution_count": 15
        }
      ]
    },
    {
      "cell_type": "markdown",
      "metadata": {
        "id": "e55ae192"
      },
      "source": [
        "### Count the total number of rows in RDD"
      ],
      "id": "e55ae192"
    },
    {
      "cell_type": "code",
      "metadata": {
        "id": "0b3be34e",
        "colab": {
          "base_uri": "https://localhost:8080/"
        },
        "outputId": "97f55597-5aea-4c3c-a3fc-8345bbca05a2"
      },
      "source": [
        "txtfile.count()"
      ],
      "id": "0b3be34e",
      "execution_count": null,
      "outputs": [
        {
          "output_type": "execute_result",
          "data": {
            "text/plain": [
              "7"
            ]
          },
          "metadata": {},
          "execution_count": 16
        }
      ]
    },
    {
      "cell_type": "markdown",
      "metadata": {
        "id": "35652e93"
      },
      "source": [
        "### Create a function to convert the data into lower case and splitting it"
      ],
      "id": "35652e93"
    },
    {
      "cell_type": "code",
      "metadata": {
        "id": "K1RCGt5HWRQU",
        "colab": {
          "base_uri": "https://localhost:8080/"
        },
        "outputId": "9a18ce86-2633-4424-da99-c9441bdd2a3c"
      },
      "source": [
        "txtfile.map(lambda x:x.lower()).collect()"
      ],
      "id": "K1RCGt5HWRQU",
      "execution_count": null,
      "outputs": [
        {
          "output_type": "execute_result",
          "data": {
            "text/plain": [
              "['utilitatis causa amicitia est quaesita.',\n",
              " 'lorem ipsum dolor sit amet, consectetur adipiscing elit. ',\n",
              " 'collatio igitur ista te nihil iuvat. honesta oratio, socratica, platonis etiam. primum in nostrane potestate est, quid meminerimus? ',\n",
              " 'duo reges: constructio interrete. ',\n",
              " 'quid, si etiam iucunda memoria est praeteritorum malorum? si quidem, inquit, tollerem, sed relinquo. an nisi populari fama?',\n",
              " '',\n",
              " 'quamquam id quidem licebit iis existimare, qui legerint. summum a vobis bonum voluptas dicitur. at hoc in eo m. refert tamen, quo modo. quid sequatur, quid repugnet, vident. iam id ipsum absurdum, maximum malum neglegi.']"
            ]
          },
          "metadata": {},
          "execution_count": 32
        }
      ]
    },
    {
      "cell_type": "code",
      "metadata": {
        "id": "kmKJJOJ6RyPE",
        "colab": {
          "base_uri": "https://localhost:8080/"
        },
        "outputId": "74a703f2-0953-42a0-e0dc-e37a3178d162"
      },
      "source": [
        "txtfile.map(lambda x:x.split()).collect()"
      ],
      "id": "kmKJJOJ6RyPE",
      "execution_count": null,
      "outputs": [
        {
          "output_type": "execute_result",
          "data": {
            "text/plain": [
              "[['Utilitatis', 'causa', 'amicitia', 'est', 'quaesita.'],\n",
              " ['Lorem',\n",
              "  'ipsum',\n",
              "  'dolor',\n",
              "  'sit',\n",
              "  'amet,',\n",
              "  'consectetur',\n",
              "  'adipiscing',\n",
              "  'elit.'],\n",
              " ['Collatio',\n",
              "  'igitur',\n",
              "  'ista',\n",
              "  'te',\n",
              "  'nihil',\n",
              "  'iuvat.',\n",
              "  'Honesta',\n",
              "  'oratio,',\n",
              "  'Socratica,',\n",
              "  'Platonis',\n",
              "  'etiam.',\n",
              "  'Primum',\n",
              "  'in',\n",
              "  'nostrane',\n",
              "  'potestate',\n",
              "  'est,',\n",
              "  'quid',\n",
              "  'meminerimus?'],\n",
              " ['Duo', 'Reges:', 'constructio', 'interrete.'],\n",
              " ['Quid,',\n",
              "  'si',\n",
              "  'etiam',\n",
              "  'iucunda',\n",
              "  'memoria',\n",
              "  'est',\n",
              "  'praeteritorum',\n",
              "  'malorum?',\n",
              "  'Si',\n",
              "  'quidem,',\n",
              "  'inquit,',\n",
              "  'tollerem,',\n",
              "  'sed',\n",
              "  'relinquo.',\n",
              "  'An',\n",
              "  'nisi',\n",
              "  'populari',\n",
              "  'fama?'],\n",
              " [],\n",
              " ['Quamquam',\n",
              "  'id',\n",
              "  'quidem',\n",
              "  'licebit',\n",
              "  'iis',\n",
              "  'existimare,',\n",
              "  'qui',\n",
              "  'legerint.',\n",
              "  'Summum',\n",
              "  'a',\n",
              "  'vobis',\n",
              "  'bonum',\n",
              "  'voluptas',\n",
              "  'dicitur.',\n",
              "  'At',\n",
              "  'hoc',\n",
              "  'in',\n",
              "  'eo',\n",
              "  'M.',\n",
              "  'Refert',\n",
              "  'tamen,',\n",
              "  'quo',\n",
              "  'modo.',\n",
              "  'Quid',\n",
              "  'sequatur,',\n",
              "  'quid',\n",
              "  'repugnet,',\n",
              "  'vident.',\n",
              "  'Iam',\n",
              "  'id',\n",
              "  'ipsum',\n",
              "  'absurdum,',\n",
              "  'maximum',\n",
              "  'malum',\n",
              "  'neglegi.']]"
            ]
          },
          "metadata": {},
          "execution_count": 33
        }
      ]
    },
    {
      "cell_type": "markdown",
      "metadata": {
        "id": "4cfa29af"
      },
      "source": [
        "### Filter the stopwords from the previous text"
      ],
      "id": "4cfa29af"
    },
    {
      "cell_type": "code",
      "metadata": {
        "id": "97c1e731"
      },
      "source": [
        "stopwords = ['a','all','the','as','is','am','an','and',\n",
        "             'be','been','from','had','I','I’d','why','with']\n",
        "# Hint: you may need use flatMap"
      ],
      "id": "97c1e731",
      "execution_count": null,
      "outputs": []
    },
    {
      "cell_type": "code",
      "metadata": {
        "id": "Ju0qpxKPWvi4",
        "colab": {
          "base_uri": "https://localhost:8080/"
        },
        "outputId": "5fb4650e-8bd5-4507-e837-f6bbe0f1cd49"
      },
      "source": [
        "newfile = txtfile.filter(lambda x : x not in stopwords)\n",
        "newfile.flatMap(lambda x:x.split()).collect()"
      ],
      "id": "Ju0qpxKPWvi4",
      "execution_count": null,
      "outputs": [
        {
          "output_type": "execute_result",
          "data": {
            "text/plain": [
              "['Utilitatis',\n",
              " 'causa',\n",
              " 'amicitia',\n",
              " 'est',\n",
              " 'quaesita.',\n",
              " 'Lorem',\n",
              " 'ipsum',\n",
              " 'dolor',\n",
              " 'sit',\n",
              " 'amet,',\n",
              " 'consectetur',\n",
              " 'adipiscing',\n",
              " 'elit.',\n",
              " 'Collatio',\n",
              " 'igitur',\n",
              " 'ista',\n",
              " 'te',\n",
              " 'nihil',\n",
              " 'iuvat.',\n",
              " 'Honesta',\n",
              " 'oratio,',\n",
              " 'Socratica,',\n",
              " 'Platonis',\n",
              " 'etiam.',\n",
              " 'Primum',\n",
              " 'in',\n",
              " 'nostrane',\n",
              " 'potestate',\n",
              " 'est,',\n",
              " 'quid',\n",
              " 'meminerimus?',\n",
              " 'Duo',\n",
              " 'Reges:',\n",
              " 'constructio',\n",
              " 'interrete.',\n",
              " 'Quid,',\n",
              " 'si',\n",
              " 'etiam',\n",
              " 'iucunda',\n",
              " 'memoria',\n",
              " 'est',\n",
              " 'praeteritorum',\n",
              " 'malorum?',\n",
              " 'Si',\n",
              " 'quidem,',\n",
              " 'inquit,',\n",
              " 'tollerem,',\n",
              " 'sed',\n",
              " 'relinquo.',\n",
              " 'An',\n",
              " 'nisi',\n",
              " 'populari',\n",
              " 'fama?',\n",
              " 'Quamquam',\n",
              " 'id',\n",
              " 'quidem',\n",
              " 'licebit',\n",
              " 'iis',\n",
              " 'existimare,',\n",
              " 'qui',\n",
              " 'legerint.',\n",
              " 'Summum',\n",
              " 'a',\n",
              " 'vobis',\n",
              " 'bonum',\n",
              " 'voluptas',\n",
              " 'dicitur.',\n",
              " 'At',\n",
              " 'hoc',\n",
              " 'in',\n",
              " 'eo',\n",
              " 'M.',\n",
              " 'Refert',\n",
              " 'tamen,',\n",
              " 'quo',\n",
              " 'modo.',\n",
              " 'Quid',\n",
              " 'sequatur,',\n",
              " 'quid',\n",
              " 'repugnet,',\n",
              " 'vident.',\n",
              " 'Iam',\n",
              " 'id',\n",
              " 'ipsum',\n",
              " 'absurdum,',\n",
              " 'maximum',\n",
              " 'malum',\n",
              " 'neglegi.']"
            ]
          },
          "metadata": {},
          "execution_count": 37
        }
      ]
    },
    {
      "cell_type": "markdown",
      "metadata": {
        "id": "eb066a90"
      },
      "source": [
        "### Filter the words starting with ‘c’"
      ],
      "id": "eb066a90"
    },
    {
      "cell_type": "code",
      "metadata": {
        "id": "kyDFfXEwaHgU"
      },
      "source": [
        "splitted = newfile.flatMap(lambda x:x.split()).filter(lambda x :x.startswith('c')).collect() "
      ],
      "id": "kyDFfXEwaHgU",
      "execution_count": null,
      "outputs": []
    },
    {
      "cell_type": "code",
      "metadata": {
        "id": "2oywFQVNb_iO",
        "colab": {
          "base_uri": "https://localhost:8080/"
        },
        "outputId": "9c9ecd21-9ca0-4c64-c77a-c5671e12c017"
      },
      "source": [
        "splitted"
      ],
      "id": "2oywFQVNb_iO",
      "execution_count": null,
      "outputs": [
        {
          "output_type": "execute_result",
          "data": {
            "text/plain": [
              "['causa', 'consectetur', 'constructio']"
            ]
          },
          "metadata": {},
          "execution_count": 59
        }
      ]
    },
    {
      "cell_type": "markdown",
      "metadata": {
        "id": "eba39e2e"
      },
      "source": [
        "### Reduce the data by key and sum it (use the data from the following list)"
      ],
      "id": "eba39e2e"
    },
    {
      "cell_type": "code",
      "metadata": {
        "id": "f26dea46"
      },
      "source": [
        "list = [('JK', 22), ('V', 24), ('Jimin',24), ('RM', 25)\n",
        "        , ('J-Hope', 25), ('Suga', 26), ('Jin', 27)\n",
        "       , ('J-Hope', 12), ('Suga', 25), ('Jin', 34)\n",
        "       , ('JK', 32), ('V', 44), ('Jimin',14), ('RM', 35)]\n",
        "# Hint: use reduceByKey"
      ],
      "id": "f26dea46",
      "execution_count": null,
      "outputs": []
    },
    {
      "cell_type": "code",
      "metadata": {
        "id": "ybBYYN45g4az",
        "colab": {
          "base_uri": "https://localhost:8080/"
        },
        "outputId": "8464a61e-a7c1-40ca-a81f-f9470185f0f9"
      },
      "source": [
        "rdd = sc.parallelize(list)\n",
        "rdd.reduceByKey(lambda a,b : (a+b)).collect()"
      ],
      "id": "ybBYYN45g4az",
      "execution_count": null,
      "outputs": [
        {
          "output_type": "execute_result",
          "data": {
            "text/plain": [
              "[('Suga', 51),\n",
              " ('Jin', 61),\n",
              " ('JK', 54),\n",
              " ('V', 68),\n",
              " ('Jimin', 38),\n",
              " ('RM', 60),\n",
              " ('J-Hope', 37)]"
            ]
          },
          "metadata": {},
          "execution_count": 72
        }
      ]
    },
    {
      "cell_type": "markdown",
      "metadata": {
        "id": "a4587230"
      },
      "source": [
        "### Creat some key value pairs RDDs"
      ],
      "id": "a4587230"
    },
    {
      "cell_type": "code",
      "metadata": {
        "id": "cfb446ee"
      },
      "source": [
        "rdd1 = sc.parallelize([('a',2),('b',3)])\n",
        "rdd2 = sc.parallelize([('a',9),('b',7),('c',10)])\n"
      ],
      "id": "cfb446ee",
      "execution_count": null,
      "outputs": []
    },
    {
      "cell_type": "markdown",
      "metadata": {
        "id": "98ec3168"
      },
      "source": [
        "### Perform Join operation on the RDDs (rdd1,rdd2)"
      ],
      "id": "98ec3168"
    },
    {
      "cell_type": "code",
      "metadata": {
        "id": "c61b5926",
        "colab": {
          "base_uri": "https://localhost:8080/"
        },
        "outputId": "98bda656-5aa4-4a37-e633-a623f6764419"
      },
      "source": [
        "rdd1.join(rdd2).collect()"
      ],
      "id": "c61b5926",
      "execution_count": null,
      "outputs": [
        {
          "output_type": "execute_result",
          "data": {
            "text/plain": [
              "[('b', (3, 7)), ('a', (2, 9))]"
            ]
          },
          "metadata": {},
          "execution_count": 76
        }
      ]
    }
  ]
}